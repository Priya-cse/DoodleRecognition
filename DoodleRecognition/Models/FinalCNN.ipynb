{
  "cells": [
    {
      "cell_type": "code",
      "source": [
        "from google.colab import drive\n",
        "drive.mount('/gdrive')\n",
        "!ln -s \"/gdrive/My Drive/Doodle Recognition/Dataset\" \"/content/Dataset\""
      ],
      "metadata": {
        "id": "Hr_iFtH-xpFo",
        "colab": {
          "base_uri": "https://localhost:8080/"
        },
        "outputId": "8b96cd85-e045-4e29-d855-bd9023a69ba3"
      },
      "execution_count": null,
      "outputs": [
        {
          "output_type": "stream",
          "name": "stdout",
          "text": [
            "Mounted at /gdrive\n"
          ]
        }
      ]
    },
    {
      "cell_type": "code",
      "source": [
        "# from google.colab import drive\n",
        "# drive.flush_and_unmount()"
      ],
      "metadata": {
        "id": "rIEZeBnix8Fa"
      },
      "execution_count": null,
      "outputs": []
    },
    {
      "cell_type": "markdown",
      "metadata": {
        "id": "tpDZd3JUfVbF"
      },
      "source": [
        "**MODEL TRAINING**"
      ]
    },
    {
      "cell_type": "code",
      "execution_count": null,
      "metadata": {
        "id": "9qdROerCfmiS"
      },
      "outputs": [],
      "source": [
        "import numpy as np\n",
        "from matplotlib import pyplot as plt\n",
        "import tensorflow as tf\n",
        "from tensorflow import keras\n",
        "import glob\n",
        "import os\n",
        "import matplotlib.figure\n",
        "from sklearn.model_selection import train_test_split\n",
        "import pandas as pd\n",
        "\n",
        "from keras import Sequential\n",
        "from tensorflow.keras.layers import Dense, Activation, Conv2D, Flatten, Dropout, MaxPooling2D, BatchNormalization, GlobalAveragePooling2D\n",
        "from tensorflow.keras.optimizers import Adam\n",
        "from tensorflow.keras.callbacks import EarlyStopping\n",
        "from tensorflow.keras.callbacks import ModelCheckpoint"
      ]
    },
    {
      "cell_type": "code",
      "execution_count": null,
      "metadata": {
        "id": "_Zm9qUbDfqQU"
      },
      "outputs": [],
      "source": [
        "# Declare Variables\n",
        "rows=4\n",
        "cols=5\n",
        "vfold_ratio=0.1, \n",
        "max_items_per_class=3000\n",
        "img_size=64\n",
        "batch_size=32\n",
        "epochs=20"
      ]
    },
    {
      "cell_type": "code",
      "source": [
        "all_files = glob.glob(os.path.join('/content/Dataset/PreprocessedData', '*.npy'))\n",
        "all_files.sort()\n",
        "len(all_files)"
      ],
      "metadata": {
        "colab": {
          "base_uri": "https://localhost:8080/"
        },
        "id": "K2aeDru-rppm",
        "outputId": "483d1fd8-6053-4da5-c824-47a93c65786f"
      },
      "execution_count": null,
      "outputs": [
        {
          "output_type": "execute_result",
          "data": {
            "text/plain": [
              "10"
            ]
          },
          "metadata": {},
          "execution_count": 4
        }
      ]
    },
    {
      "cell_type": "code",
      "source": [
        "#initialize variables \n",
        "x = np.empty([0,64,64,1])\n",
        "y = np.empty([0])\n",
        "class_names = []\n",
        "#test_label=[]\n",
        "#testx=np.empty([0,784])\n",
        "    #load each data file \n",
        "for idx, file in enumerate(all_files):\n",
        "    data = np.load(file)\n",
        "    #test = data[0:max_items_per_class, :]\n",
        "    data = data[0: max_items_per_class, :]\n",
        "    labels = np.full(data.shape[0], idx)\n",
        "    x = np.concatenate((x, data), axis=0)\n",
        "    #testx= np.concatenate((testx, test), axis=0)\n",
        "    y = np.append(y, labels)\n",
        "\n",
        "    class_name, ext = os.path.splitext(os.path.basename(file))\n",
        "    class_name=class_name.split('_')[-1].split('.')[0]\n",
        "    class_names.append(class_name)\n",
        "data = None\n",
        "labels = None\n",
        "    \n",
        "    #randomize the dataset \n",
        "permutation = np.random.permutation(y.shape[0])\n",
        "X_train = x[permutation, :]\n",
        "y = y[permutation].astype(int)\n",
        "\n",
        "X_train.shape\n"
      ],
      "metadata": {
        "colab": {
          "base_uri": "https://localhost:8080/"
        },
        "id": "v53nw7cjr779",
        "outputId": "da984966-873f-4a71-e91d-7f3bf8e19465"
      },
      "execution_count": null,
      "outputs": [
        {
          "output_type": "execute_result",
          "data": {
            "text/plain": [
              "(30000, 64, 64, 1)"
            ]
          },
          "metadata": {},
          "execution_count": 5
        }
      ]
    },
    {
      "cell_type": "code",
      "source": [
        "fig, axes = plt.subplots(rows,cols, figsize=(8,8))\n",
        "for i in list(range(0, min(len(X_train),(rows*cols)) )):    \n",
        "    #fig = matplotlib.figure.Figure()\n",
        "    a = fig.add_subplot(rows,cols,i+1)\n",
        "    a.text(10., -1.5, f'{class_names[y[i]]}')\n",
        "    imgplot = plt.imshow(X_train[i].reshape((64,64)), interpolation='nearest',cmap='Greys_r')\n",
        "    plt.xticks([])\n",
        "    plt.yticks([])"
      ],
      "metadata": {
        "colab": {
          "base_uri": "https://localhost:8080/",
          "height": 487
        },
        "id": "mUeB6754sPUs",
        "outputId": "3ef041b5-722d-466b-dc8d-cd1d119a85d0"
      },
      "execution_count": null,
      "outputs": [
        {
          "output_type": "display_data",
          "data": {
            "text/plain": [
              "<Figure size 576x576 with 40 Axes>"
            ],
            "image/png": "[encoded data removed]"
          },
          "metadata": {
            "needs_background": "light"
          }
        }
      ]
    },
    {
      "cell_type": "code",
      "source": [
        "X_train /= 255.0"
      ],
      "metadata": {
        "id": "gugTXc4FVeRg"
      },
      "execution_count": null,
      "outputs": []
    },
    {
      "cell_type": "code",
      "source": [
        "class_names"
      ],
      "metadata": {
        "colab": {
          "base_uri": "https://localhost:8080/"
        },
        "id": "ay2KfKfhbZER",
        "outputId": "6f2154f0-ab2e-4cbc-bcff-a9529eff4b00"
      },
      "execution_count": null,
      "outputs": [
        {
          "output_type": "execute_result",
          "data": {
            "text/plain": [
              "['alarm clock',\n",
              " 'apple',\n",
              " 'birthday cake',\n",
              " 'butterfly',\n",
              " 'candle',\n",
              " 'ceiling fan',\n",
              " 'donut',\n",
              " 'door',\n",
              " 'eyeglasses',\n",
              " 't-shirt']"
            ]
          },
          "metadata": {},
          "execution_count": 8
        }
      ]
    },
    {
      "cell_type": "code",
      "source": [
        "from tensorflow.keras.utils import to_categorical\n",
        "\n",
        "y = to_categorical(y, len(class_names))\n",
        "y.shape"
      ],
      "metadata": {
        "colab": {
          "base_uri": "https://localhost:8080/"
        },
        "id": "7DxzbtoFsvrl",
        "outputId": "ed11f4d7-cc4e-437d-dd82-44f4e3c71379"
      },
      "execution_count": null,
      "outputs": [
        {
          "output_type": "execute_result",
          "data": {
            "text/plain": [
              "(30000, 10)"
            ]
          },
          "metadata": {},
          "execution_count": 9
        }
      ]
    },
    {
      "cell_type": "code",
      "source": [
        "from sklearn.model_selection import train_test_split\n",
        "X_train, X_test, y_train, y_test = train_test_split(X_train, y, test_size=0.20, random_state=0)\n",
        "\n",
        "X_train=X_train.reshape(X_train.shape[0],64,64,1)\n",
        "X_test=X_test.reshape(X_test.shape[0],64,64,1)\n",
        "print(X_train.shape)\n",
        "print(X_test.shape)\n",
        "print(y_train.shape)\n",
        "print(y_test.shape)"
      ],
      "metadata": {
        "colab": {
          "base_uri": "https://localhost:8080/"
        },
        "id": "RkqZBQxWs2I_",
        "outputId": "698fb301-0fe5-4ac1-87b5-eb33c3cf41db"
      },
      "execution_count": null,
      "outputs": [
        {
          "output_type": "stream",
          "name": "stdout",
          "text": [
            "(24000, 64, 64, 1)\n",
            "(6000, 64, 64, 1)\n",
            "(24000, 10)\n",
            "(6000, 10)\n"
          ]
        }
      ]
    },
    {
      "cell_type": "code",
      "source": [
        "from keras.preprocessing.image import ImageDataGenerator\n",
        "datagen = ImageDataGenerator(\n",
        "        featurewise_center=False,  # set input mean to 0 over the dataset\n",
        "        samplewise_center=False,  # set each sample mean to 0\n",
        "        featurewise_std_normalization=False,  # divide inputs by std of the dataset\n",
        "        samplewise_std_normalization=False,  # divide each input by its std\n",
        "        zca_whitening=False,  # apply ZCA whitening\n",
        "        rotation_range = 30,  # randomly rotate images in the range (degrees, 0 to 180)\n",
        "        zoom_range = 0.2, # Randomly zoom image \n",
        "        width_shift_range=0.1,  # randomly shift images horizontally (fraction of total width)\n",
        "        height_shift_range=0.1,  # randomly shift images vertically (fraction of total height)\n",
        "        horizontal_flip = True,  # randomly flip images\n",
        "        vertical_flip=False)  # randomly flip images\n",
        "\n",
        "datagen.fit(X_train)"
      ],
      "metadata": {
        "id": "FrOQKTKMtJGo"
      },
      "execution_count": null,
      "outputs": []
    },
    {
      "cell_type": "markdown",
      "source": [
        "**MODEL**"
      ],
      "metadata": {
        "id": "n1yXfnA20rkv"
      }
    },
    {
      "cell_type": "code",
      "source": [
        "model = Sequential()\n",
        "model.add(Conv2D(128, (3, 3), padding='same', input_shape=X_train.shape[1:], activation='relu'))\n",
        "model.add(BatchNormalization(momentum = 0.8))\n",
        "model.add(Conv2D(16, (3, 3), padding='same',input_shape=X_train.shape[1:], activation='relu'))\n",
        "model.add(MaxPooling2D(pool_size=(2, 2)))\n",
        "model.add(Dropout(0.4))\n",
        "\n",
        "model.add(Conv2D(64, (3, 3), padding='same', activation= 'relu'))\n",
        "model.add(BatchNormalization(momentum = 0.8))\n",
        "model.add(Conv2D(16, (3, 3), padding='same', activation= 'relu'))\n",
        "model.add(MaxPooling2D(pool_size=(2, 2)))\n",
        "model.add(Dropout(0.4))\n",
        "\n",
        "model.add(Conv2D(32, (3, 3), padding='same', activation= 'relu'))\n",
        "model.add(BatchNormalization(momentum = 0.8))\n",
        "model.add(Conv2D(16, (3, 3), padding='same', activation= 'relu'))\n",
        "model.add(MaxPooling2D(pool_size =(2,2)))\n",
        "model.add(Dropout(0.4))\n",
        "\n",
        "model.add(Flatten())\n",
        "model.add(Dense(512, activation='relu'))\n",
        "model.add(Dropout(0.4))\n",
        "model.add(Dense(10, activation='softmax')) "
      ],
      "metadata": {
        "id": "3vfHOU5gtQ3E"
      },
      "execution_count": null,
      "outputs": []
    },
    {
      "cell_type": "code",
      "source": [
        "model.summary()"
      ],
      "metadata": {
        "colab": {
          "base_uri": "https://localhost:8080/"
        },
        "id": "TvN3fexTtgNF",
        "outputId": "45be7c45-a7a8-469e-8f54-1d70094b6793"
      },
      "execution_count": null,
      "outputs": [
        {
          "output_type": "stream",
          "name": "stdout",
          "text": [
            "Model: \"sequential_1\"\n",
            "_________________________________________________________________\n",
            " Layer (type)                Output Shape              Param #   \n",
            "=================================================================\n",
            " conv2d_6 (Conv2D)           (None, 64, 64, 128)       1280      \n",
            "                                                                 \n",
            " batch_normalization_3 (Batc  (None, 64, 64, 128)      512       \n",
            " hNormalization)                                                 \n",
            "                                                                 \n",
            " conv2d_7 (Conv2D)           (None, 64, 64, 16)        18448     \n",
            "                                                                 \n",
            " max_pooling2d_3 (MaxPooling  (None, 32, 32, 16)       0         \n",
            " 2D)                                                             \n",
            "                                                                 \n",
            " dropout_4 (Dropout)         (None, 32, 32, 16)        0         \n",
            "                                                                 \n",
            " conv2d_8 (Conv2D)           (None, 32, 32, 64)        9280      \n",
            "                                                                 \n",
            " batch_normalization_4 (Batc  (None, 32, 32, 64)       256       \n",
            " hNormalization)                                                 \n",
            "                                                                 \n",
            " conv2d_9 (Conv2D)           (None, 32, 32, 16)        9232      \n",
            "                                                                 \n",
            " max_pooling2d_4 (MaxPooling  (None, 16, 16, 16)       0         \n",
            " 2D)                                                             \n",
            "                                                                 \n",
            " dropout_5 (Dropout)         (None, 16, 16, 16)        0         \n",
            "                                                                 \n",
            " conv2d_10 (Conv2D)          (None, 16, 16, 32)        4640      \n",
            "                                                                 \n",
            " batch_normalization_5 (Batc  (None, 16, 16, 32)       128       \n",
            " hNormalization)                                                 \n",
            "                                                                 \n",
            " conv2d_11 (Conv2D)          (None, 16, 16, 16)        4624      \n",
            "                                                                 \n",
            " max_pooling2d_5 (MaxPooling  (None, 8, 8, 16)         0         \n",
            " 2D)                                                             \n",
            "                                                                 \n",
            " dropout_6 (Dropout)         (None, 8, 8, 16)          0         \n",
            "                                                                 \n",
            " flatten_1 (Flatten)         (None, 1024)              0         \n",
            "                                                                 \n",
            " dense_2 (Dense)             (None, 512)               524800    \n",
            "                                                                 \n",
            " dropout_7 (Dropout)         (None, 512)               0         \n",
            "                                                                 \n",
            " dense_3 (Dense)             (None, 10)                5130      \n",
            "                                                                 \n",
            "=================================================================\n",
            "Total params: 578,330\n",
            "Trainable params: 577,882\n",
            "Non-trainable params: 448\n",
            "_________________________________________________________________\n"
          ]
        }
      ]
    },
    {
      "cell_type": "code",
      "source": [
        "from tensorflow.keras.optimizers import Adam\n",
        "model.compile(optimizer=Adam(0.001),loss =\"categorical_crossentropy\", metrics=['acc'])"
      ],
      "metadata": {
        "id": "vWNLMtcUtuaV"
      },
      "execution_count": null,
      "outputs": []
    },
    {
      "cell_type": "code",
      "source": [
        "from keras.callbacks import ReduceLROnPlateau,EarlyStopping\n",
        "\n",
        "erlystop = EarlyStopping(monitor='val_acc', min_delta=0, patience=7, verbose=0,mode='max', baseline=None)\n",
        "cp_callback = ModelCheckpoint('/content/checkpoint', verbose=1, save_weights_only=True,save_freq='epoch',save_best_only=True,monitor='val_acc',mode='max')\n",
        "rlrop = ReduceLROnPlateau(monitor='val_acc', patience=3,verbose=1,mode='max')"
      ],
      "metadata": {
        "id": "d0tnUrMPuPQ4"
      },
      "execution_count": null,
      "outputs": []
    },
    {
      "cell_type": "code",
      "source": [
        "modelHistory = model.fit(X_train,\n",
        "      y_train,\n",
        "      epochs=25,\n",
        "      batch_size=batch_size,\n",
        "      #validation_split=0.3, # 1000 images = batch_size * steps\n",
        "      validation_data=(X_test,y_test),\t\n",
        "      callbacks=[cp_callback, rlrop, erlystop],\n",
        "      verbose=1)"
      ],
      "metadata": {
        "colab": {
          "base_uri": "https://localhost:8080/"
        },
        "id": "NHJH0oVYipRj",
        "outputId": "26b328af-a34c-4c40-f0ce-841563c93e4d"
      },
      "execution_count": null,
      "outputs": [
        {
          "output_type": "stream",
          "name": "stdout",
          "text": [
            "Epoch 1/25\n",
            "748/750 [============================>.] - ETA: 0s - loss: 0.7746 - acc: 0.7561\n",
            "Epoch 1: val_acc improved from -inf to 0.88700, saving model to /content/checkpoint\n",
            "750/750 [==============================] - 23s 20ms/step - loss: 0.7735 - acc: 0.7563 - val_loss: 0.3598 - val_acc: 0.8870 - lr: 0.0010\n",
            "Epoch 2/25\n",
            "749/750 [============================>.] - ETA: 0s - loss: 0.3711 - acc: 0.8855\n",
            "Epoch 2: val_acc improved from 0.88700 to 0.92600, saving model to /content/checkpoint\n",
            "750/750 [==============================] - 14s 19ms/step - loss: 0.3709 - acc: 0.8856 - val_loss: 0.2367 - val_acc: 0.9260 - lr: 0.0010\n",
            "Epoch 3/25\n",
            "749/750 [============================>.] - ETA: 0s - loss: 0.3070 - acc: 0.9065\n",
            "Epoch 3: val_acc improved from 0.92600 to 0.94533, saving model to /content/checkpoint\n",
            "750/750 [==============================] - 15s 20ms/step - loss: 0.3070 - acc: 0.9065 - val_loss: 0.1946 - val_acc: 0.9453 - lr: 0.0010\n",
            "Epoch 4/25\n",
            "748/750 [============================>.] - ETA: 0s - loss: 0.2579 - acc: 0.9206\n",
            "Epoch 4: val_acc improved from 0.94533 to 0.94667, saving model to /content/checkpoint\n",
            "750/750 [==============================] - 15s 20ms/step - loss: 0.2580 - acc: 0.9206 - val_loss: 0.1777 - val_acc: 0.9467 - lr: 0.0010\n",
            "Epoch 5/25\n",
            "748/750 [============================>.] - ETA: 0s - loss: 0.2332 - acc: 0.9271\n",
            "Epoch 5: val_acc improved from 0.94667 to 0.95833, saving model to /content/checkpoint\n",
            "750/750 [==============================] - 15s 19ms/step - loss: 0.2330 - acc: 0.9272 - val_loss: 0.1464 - val_acc: 0.9583 - lr: 0.0010\n",
            "Epoch 6/25\n",
            "748/750 [============================>.] - ETA: 0s - loss: 0.2135 - acc: 0.9346\n",
            "Epoch 6: val_acc did not improve from 0.95833\n",
            "750/750 [==============================] - 15s 20ms/step - loss: 0.2135 - acc: 0.9345 - val_loss: 0.1519 - val_acc: 0.9555 - lr: 0.0010\n",
            "Epoch 7/25\n",
            "748/750 [============================>.] - ETA: 0s - loss: 0.2022 - acc: 0.9357\n",
            "Epoch 7: val_acc did not improve from 0.95833\n",
            "750/750 [==============================] - 14s 19ms/step - loss: 0.2021 - acc: 0.9358 - val_loss: 0.1451 - val_acc: 0.9580 - lr: 0.0010\n",
            "Epoch 8/25\n",
            "748/750 [============================>.] - ETA: 0s - loss: 0.1883 - acc: 0.9427\n",
            "Epoch 8: val_acc improved from 0.95833 to 0.96050, saving model to /content/checkpoint\n",
            "750/750 [==============================] - 14s 19ms/step - loss: 0.1882 - acc: 0.9427 - val_loss: 0.1389 - val_acc: 0.9605 - lr: 0.0010\n",
            "Epoch 9/25\n",
            "749/750 [============================>.] - ETA: 0s - loss: 0.1717 - acc: 0.9440\n",
            "Epoch 9: val_acc improved from 0.96050 to 0.96333, saving model to /content/checkpoint\n",
            "750/750 [==============================] - 14s 19ms/step - loss: 0.1716 - acc: 0.9440 - val_loss: 0.1341 - val_acc: 0.9633 - lr: 0.0010\n",
            "Epoch 10/25\n",
            "750/750 [==============================] - ETA: 0s - loss: 0.1705 - acc: 0.9474\n",
            "Epoch 10: val_acc did not improve from 0.96333\n",
            "750/750 [==============================] - 14s 19ms/step - loss: 0.1705 - acc: 0.9474 - val_loss: 0.1257 - val_acc: 0.9627 - lr: 0.0010\n",
            "Epoch 11/25\n",
            "748/750 [============================>.] - ETA: 0s - loss: 0.1560 - acc: 0.9529\n",
            "Epoch 11: val_acc improved from 0.96333 to 0.96483, saving model to /content/checkpoint\n",
            "750/750 [==============================] - 14s 19ms/step - loss: 0.1559 - acc: 0.9529 - val_loss: 0.1261 - val_acc: 0.9648 - lr: 0.0010\n",
            "Epoch 12/25\n",
            "750/750 [==============================] - ETA: 0s - loss: 0.1535 - acc: 0.9509\n",
            "Epoch 12: val_acc did not improve from 0.96483\n",
            "750/750 [==============================] - 16s 21ms/step - loss: 0.1535 - acc: 0.9509 - val_loss: 0.1321 - val_acc: 0.9612 - lr: 0.0010\n",
            "Epoch 13/25\n",
            "748/750 [============================>.] - ETA: 0s - loss: 0.1482 - acc: 0.9530\n",
            "Epoch 13: val_acc did not improve from 0.96483\n",
            "750/750 [==============================] - 15s 20ms/step - loss: 0.1479 - acc: 0.9530 - val_loss: 0.1254 - val_acc: 0.9645 - lr: 0.0010\n",
            "Epoch 14/25\n",
            "748/750 [============================>.] - ETA: 0s - loss: 0.1420 - acc: 0.9552\n",
            "Epoch 14: val_acc improved from 0.96483 to 0.96617, saving model to /content/checkpoint\n",
            "750/750 [==============================] - 14s 19ms/step - loss: 0.1418 - acc: 0.9553 - val_loss: 0.1218 - val_acc: 0.9662 - lr: 0.0010\n",
            "Epoch 15/25\n",
            "748/750 [============================>.] - ETA: 0s - loss: 0.1392 - acc: 0.9560\n",
            "Epoch 15: val_acc did not improve from 0.96617\n",
            "750/750 [==============================] - 14s 19ms/step - loss: 0.1390 - acc: 0.9561 - val_loss: 0.1196 - val_acc: 0.9660 - lr: 0.0010\n",
            "Epoch 16/25\n",
            "748/750 [============================>.] - ETA: 0s - loss: 0.1301 - acc: 0.9590\n",
            "Epoch 16: val_acc did not improve from 0.96617\n",
            "750/750 [==============================] - 15s 19ms/step - loss: 0.1299 - acc: 0.9591 - val_loss: 0.1209 - val_acc: 0.9632 - lr: 0.0010\n",
            "Epoch 17/25\n",
            "748/750 [============================>.] - ETA: 0s - loss: 0.1267 - acc: 0.9601\n",
            "Epoch 17: val_acc did not improve from 0.96617\n",
            "\n",
            "Epoch 17: ReduceLROnPlateau reducing learning rate to 0.00010000000474974513.\n",
            "750/750 [==============================] - 15s 19ms/step - loss: 0.1266 - acc: 0.9601 - val_loss: 0.1330 - val_acc: 0.9657 - lr: 0.0010\n",
            "Epoch 18/25\n",
            "748/750 [============================>.] - ETA: 0s - loss: 0.0970 - acc: 0.9682\n",
            "Epoch 18: val_acc improved from 0.96617 to 0.96833, saving model to /content/checkpoint\n",
            "750/750 [==============================] - 15s 19ms/step - loss: 0.0971 - acc: 0.9681 - val_loss: 0.1134 - val_acc: 0.9683 - lr: 1.0000e-04\n",
            "Epoch 19/25\n",
            "748/750 [============================>.] - ETA: 0s - loss: 0.0903 - acc: 0.9703\n",
            "Epoch 19: val_acc improved from 0.96833 to 0.96917, saving model to /content/checkpoint\n",
            "750/750 [==============================] - 14s 19ms/step - loss: 0.0902 - acc: 0.9703 - val_loss: 0.1119 - val_acc: 0.9692 - lr: 1.0000e-04\n",
            "Epoch 20/25\n",
            "748/750 [============================>.] - ETA: 0s - loss: 0.0836 - acc: 0.9736\n",
            "Epoch 20: val_acc improved from 0.96917 to 0.97000, saving model to /content/checkpoint\n",
            "750/750 [==============================] - 14s 19ms/step - loss: 0.0838 - acc: 0.9736 - val_loss: 0.1129 - val_acc: 0.9700 - lr: 1.0000e-04\n",
            "Epoch 21/25\n",
            "748/750 [============================>.] - ETA: 0s - loss: 0.0820 - acc: 0.9733\n",
            "Epoch 21: val_acc improved from 0.97000 to 0.97083, saving model to /content/checkpoint\n",
            "750/750 [==============================] - 14s 19ms/step - loss: 0.0820 - acc: 0.9733 - val_loss: 0.1104 - val_acc: 0.9708 - lr: 1.0000e-04\n",
            "Epoch 22/25\n",
            "748/750 [============================>.] - ETA: 0s - loss: 0.0792 - acc: 0.9747\n",
            "Epoch 22: val_acc did not improve from 0.97083\n",
            "750/750 [==============================] - 14s 19ms/step - loss: 0.0793 - acc: 0.9746 - val_loss: 0.1101 - val_acc: 0.9707 - lr: 1.0000e-04\n",
            "Epoch 23/25\n",
            "748/750 [============================>.] - ETA: 0s - loss: 0.0753 - acc: 0.9742\n",
            "Epoch 23: val_acc improved from 0.97083 to 0.97167, saving model to /content/checkpoint\n",
            "750/750 [==============================] - 15s 19ms/step - loss: 0.0752 - acc: 0.9743 - val_loss: 0.1067 - val_acc: 0.9717 - lr: 1.0000e-04\n",
            "Epoch 24/25\n",
            "749/750 [============================>.] - ETA: 0s - loss: 0.0765 - acc: 0.9753\n",
            "Epoch 24: val_acc did not improve from 0.97167\n",
            "750/750 [==============================] - 15s 19ms/step - loss: 0.0765 - acc: 0.9753 - val_loss: 0.1089 - val_acc: 0.9698 - lr: 1.0000e-04\n",
            "Epoch 25/25\n",
            "748/750 [============================>.] - ETA: 0s - loss: 0.0690 - acc: 0.9772\n",
            "Epoch 25: val_acc improved from 0.97167 to 0.97200, saving model to /content/checkpoint\n",
            "750/750 [==============================] - 15s 20ms/step - loss: 0.0690 - acc: 0.9772 - val_loss: 0.1106 - val_acc: 0.9720 - lr: 1.0000e-04\n"
          ]
        }
      ]
    },
    {
      "cell_type": "code",
      "source": [
        "model.evaluate(X_train, y_train)"
      ],
      "metadata": {
        "colab": {
          "base_uri": "https://localhost:8080/"
        },
        "id": "A-Fa1o-Cwbto",
        "outputId": "05329937-43b7-4ac5-e55e-61c0154e3f22"
      },
      "execution_count": null,
      "outputs": [
        {
          "output_type": "stream",
          "name": "stdout",
          "text": [
            "750/750 [==============================] - 6s 8ms/step - loss: 0.0214 - acc: 0.9937\n"
          ]
        },
        {
          "output_type": "execute_result",
          "data": {
            "text/plain": [
              "[0.021388515830039978, 0.9937499761581421]"
            ]
          },
          "metadata": {},
          "execution_count": 22
        }
      ]
    },
    {
      "cell_type": "code",
      "source": [
        "model.evaluate(X_test, y_test)"
      ],
      "metadata": {
        "colab": {
          "base_uri": "https://localhost:8080/"
        },
        "id": "6huGnibK-LvN",
        "outputId": "f951ea55-ef30-49db-adf4-d0951dbb3f4c"
      },
      "execution_count": null,
      "outputs": [
        {
          "output_type": "stream",
          "name": "stdout",
          "text": [
            "188/188 [==============================] - 1s 8ms/step - loss: 0.1106 - acc: 0.9720\n"
          ]
        },
        {
          "output_type": "execute_result",
          "data": {
            "text/plain": [
              "[0.110623799264431, 0.972000002861023]"
            ]
          },
          "metadata": {},
          "execution_count": 23
        }
      ]
    },
    {
      "cell_type": "code",
      "source": [
        "print(modelHistory.history.keys())"
      ],
      "metadata": {
        "colab": {
          "base_uri": "https://localhost:8080/"
        },
        "id": "SIq-N5yWjfgn",
        "outputId": "334ae28d-41f3-40a3-e570-b4d5da1d29a7"
      },
      "execution_count": null,
      "outputs": [
        {
          "output_type": "stream",
          "name": "stdout",
          "text": [
            "dict_keys(['loss', 'acc', 'val_loss', 'val_acc', 'lr'])\n"
          ]
        }
      ]
    },
    {
      "cell_type": "code",
      "source": [
        "plt.plot(modelHistory.history['acc'])\n",
        "plt.plot(modelHistory.history['val_acc'])\n",
        "plt.title('Model Accuracy')\n",
        "plt.ylabel('Accuracy')\n",
        "plt.xlabel('Epoch')\n",
        "plt.legend(['Train', 'Test'], loc='upper left')\n",
        "plt.show()"
      ],
      "metadata": {
        "colab": {
          "base_uri": "https://localhost:8080/",
          "height": 295
        },
        "id": "kRcJhXLAjq5S",
        "outputId": "b1f1fe41-6b34-4ec6-905b-f8921f656e98"
      },
      "execution_count": null,
      "outputs": [
        {
          "output_type": "display_data",
          "data": {
            "text/plain": [
              "<Figure size 432x288 with 1 Axes>"
            ],
            "image/png": "[encoded data removed]"
          },
          "metadata": {
            "needs_background": "light"
          }
        }
      ]
    },
    {
      "cell_type": "code",
      "source": [
        "plt.plot(modelHistory.history['loss'])\n",
        "plt.plot(modelHistory.history['val_loss'])\n",
        "plt.title('Model Loss')\n",
        "plt.ylabel('Loss')\n",
        "plt.xlabel('Epoch')\n",
        "plt.legend(['Train', 'Test'], loc='upper left')\n",
        "plt.show()"
      ],
      "metadata": {
        "colab": {
          "base_uri": "https://localhost:8080/",
          "height": 295
        },
        "id": "Nf1YNFGrlMsa",
        "outputId": "a71332e8-2cdb-4ea2-8a0a-b2c65c8ab98d"
      },
      "execution_count": null,
      "outputs": [
        {
          "output_type": "display_data",
          "data": {
            "text/plain": [
              "<Figure size 432x288 with 1 Axes>"
            ],
            "image/png": "[encoded data removed]"
          },
          "metadata": {
            "needs_background": "light"
          }
        }
      ]
    },
    {
      "cell_type": "code",
      "source": [
        "plt.plot(modelHistory.history['lr'])\n",
        "plt.title('Model Learning rate')\n",
        "plt.ylabel('Rate')\n",
        "plt.xlabel('Epoch')\n",
        "plt.show()"
      ],
      "metadata": {
        "colab": {
          "base_uri": "https://localhost:8080/",
          "height": 295
        },
        "id": "4pRZ_91Xm8jg",
        "outputId": "25d9e9a1-7f4c-45a9-fe89-8a2507f12e3d"
      },
      "execution_count": null,
      "outputs": [
        {
          "output_type": "display_data",
          "data": {
            "text/plain": [
              "<Figure size 432x288 with 1 Axes>"
            ],
            "image/png": "[encoded data removed]"
          },
          "metadata": {
            "needs_background": "light"
          }
        }
      ]
    },
    {
      "cell_type": "code",
      "source": [
        "model.predict(X_test)"
      ],
      "metadata": {
        "colab": {
          "base_uri": "https://localhost:8080/"
        },
        "id": "o4iW8j2j3mjL",
        "outputId": "a9fdda0d-8664-4c50-c337-6a699fb568e1"
      },
      "execution_count": null,
      "outputs": [
        {
          "output_type": "stream",
          "name": "stdout",
          "text": [
            "188/188 [==============================] - 1s 5ms/step\n"
          ]
        },
        {
          "output_type": "execute_result",
          "data": {
            "text/plain": [
              "array([[1.00801911e-09, 9.92737670e-10, 7.77578848e-13, ...,\n",
              "        9.89977891e-12, 2.39546694e-09, 4.44565496e-09],\n",
              "       [3.18260609e-05, 1.06836205e-05, 9.92787302e-01, ...,\n",
              "        3.19294986e-06, 2.43353634e-06, 1.65238774e-08],\n",
              "       [9.52070128e-13, 9.29811889e-16, 1.25550585e-16, ...,\n",
              "        1.40844190e-14, 1.40926411e-14, 1.00000000e+00],\n",
              "       ...,\n",
              "       [1.02671054e-08, 1.36311243e-07, 9.99907255e-01, ...,\n",
              "        2.23129826e-09, 6.35695607e-10, 8.20232160e-10],\n",
              "       [1.22648956e-07, 4.69473661e-11, 4.97482958e-11, ...,\n",
              "        1.45026325e-13, 3.51369316e-08, 8.19883763e-15],\n",
              "       [1.66087943e-07, 2.55703046e-11, 3.39181461e-11, ...,\n",
              "        5.49880942e-13, 9.67044667e-09, 7.42034902e-16]], dtype=float32)"
            ]
          },
          "metadata": {},
          "execution_count": 28
        }
      ]
    },
    {
      "cell_type": "code",
      "source": [
        "model.save('doodle_best.h5')"
      ],
      "metadata": {
        "id": "Blwu8DldVUkF"
      },
      "execution_count": null,
      "outputs": []
    }
  ],
  "metadata": {
    "colab": {
      "provenance": []
    },
    "kernelspec": {
      "display_name": "Python 3",
      "name": "python3"
    },
    "language_info": {
      "name": "python"
    },
    "accelerator": "GPU",
    "gpuClass": "standard"
  },
  "nbformat": 4,
  "nbformat_minor": 0
}