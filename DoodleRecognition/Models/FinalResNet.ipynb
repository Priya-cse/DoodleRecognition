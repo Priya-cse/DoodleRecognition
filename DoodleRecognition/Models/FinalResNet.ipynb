{
  "nbformat": 4,
  "nbformat_minor": 0,
  "metadata": {
    "colab": {
      "provenance": []
    },
    "kernelspec": {
      "name": "python3",
      "display_name": "Python 3"
    },
    "language_info": {
      "name": "python"
    },
    "accelerator": "GPU",
    "gpuClass": "standard"
  },
  "cells": [
    {
      "cell_type": "code",
      "source": [
        "from google.colab import drive\n",
        "drive.mount('/gdrive')\n",
        "!ln -s \"/gdrive/My Drive/Doodle Recognition/Dataset\" \"/content/Dataset\""
      ],
      "metadata": {
        "id": "ff96-_ydmrxL",
        "colab": {
          "base_uri": "https://localhost:8080/"
        },
        "outputId": "2214c314-d51a-4034-995e-77736f39c056"
      },
      "execution_count": 1,
      "outputs": [
        {
          "output_type": "stream",
          "name": "stdout",
          "text": [
            "Mounted at /gdrive\n"
          ]
        }
      ]
    },
    {
      "cell_type": "code",
      "source": [
        "# from google.colab import drive\n",
        "# drive.flush_and_unmount()"
      ],
      "metadata": {
        "id": "4RKFclk7mvzd"
      },
      "execution_count": null,
      "outputs": []
    },
    {
      "cell_type": "code",
      "execution_count": 2,
      "metadata": {
        "id": "4dRA5dOKmN9t",
        "colab": {
          "base_uri": "https://localhost:8080/"
        },
        "outputId": "01bf8971-63a9-4cda-ba82-32577667812d"
      },
      "outputs": [
        {
          "output_type": "stream",
          "name": "stderr",
          "text": [
            "/usr/local/lib/python3.8/dist-packages/keras/backend.py:450: UserWarning: `tf.keras.backend.set_learning_phase` is deprecated and will be removed after 2020-10-11. To update it, simply pass a True/False value to the `training` argument of the `__call__` method of your layer or model.\n",
            "  warnings.warn('`tf.keras.backend.set_learning_phase` is deprecated and '\n"
          ]
        }
      ],
      "source": [
        "import numpy as np\n",
        "from matplotlib import pyplot as plt\n",
        "import tensorflow as tf\n",
        "from tensorflow import keras\n",
        "import glob\n",
        "import os\n",
        "import matplotlib.figure\n",
        "from sklearn.model_selection import train_test_split\n",
        "import pandas as pd\n",
        "\n",
        "import time\n",
        "import pydot\n",
        "from typing import List, Tuple\n",
        "from matplotlib.pyplot import imshow\n",
        "%matplotlib inline\n",
        "import PIL.Image\n",
        "import pathlib\n",
        "import shutil\n",
        "\n",
        "from tensorflow.keras.preprocessing import image\n",
        "from tensorflow.keras import layers\n",
        "from tensorflow.keras.layers import Input, Add, Dense, Activation, ZeroPadding2D, BatchNormalization, Flatten, Conv2D, AveragePooling2D, MaxPooling2D, GlobalMaxPooling2D\n",
        "from tensorflow.keras.initializers import glorot_uniform\n",
        "from tensorflow.keras.models import Model, load_model\n",
        "\n",
        "from tensorflow.python.keras.utils import layer_utils\n",
        "from tensorflow.keras.utils import model_to_dot\n",
        "from tensorflow.keras.utils import plot_model\n",
        "\n",
        "from tensorflow.keras.applications.imagenet_utils import preprocess_input\n",
        "\n",
        "from IPython.display import SVG\n",
        "\n",
        "import scipy.misc\n",
        "\n",
        "import tensorflow.keras.backend as K\n",
        "K.set_image_data_format('channels_last') # can be channels_first or channels_last. \n",
        "K.set_learning_phase(1) # 1 stands for learning phase\n",
        "\n",
        "from tensorflow.keras.optimizers import Adam\n",
        "from tensorflow.keras.callbacks import EarlyStopping\n",
        "from tensorflow.keras.callbacks import ModelCheckpoint"
      ]
    },
    {
      "cell_type": "code",
      "source": [
        "# Declare Variables\n",
        "rows=4\n",
        "cols=5\n",
        "vfold_ratio=0.1, \n",
        "max_items_per_class=3000\n",
        "img_size=64"
      ],
      "metadata": {
        "id": "kY0ax0RWmWDN"
      },
      "execution_count": 3,
      "outputs": []
    },
    {
      "cell_type": "code",
      "source": [
        "all_files = glob.glob(os.path.join('/content/Dataset/PreprocessedData', '*.npy'))\n",
        "all_files.sort()\n",
        "len(all_files)"
      ],
      "metadata": {
        "id": "WyCIW14NmX3j",
        "colab": {
          "base_uri": "https://localhost:8080/"
        },
        "outputId": "4c00c56f-5cd5-44e5-d9b6-93d44dc7f05a"
      },
      "execution_count": 4,
      "outputs": [
        {
          "output_type": "execute_result",
          "data": {
            "text/plain": [
              "10"
            ]
          },
          "metadata": {},
          "execution_count": 4
        }
      ]
    },
    {
      "cell_type": "code",
      "source": [
        "#initialize variables \n",
        "x = np.empty([0,64,64,1])\n",
        "y = np.empty([0])\n",
        "class_names = []\n",
        "#test_label=[]\n",
        "#testx=np.empty([0,784])\n",
        "    #load each data file \n",
        "for idx, file in enumerate(all_files):\n",
        "    data = np.load(file)\n",
        "    #test = data[0:max_items_per_class, :]\n",
        "    data = data[0: max_items_per_class, :]\n",
        "    labels = np.full(data.shape[0], idx)\n",
        "    x = np.concatenate((x, data), axis=0)\n",
        "    #testx= np.concatenate((testx, test), axis=0)\n",
        "    y = np.append(y, labels)\n",
        "\n",
        "    class_name, ext = os.path.splitext(os.path.basename(file))\n",
        "    class_name=class_name.split('_')[-1].split('.')[0]\n",
        "    class_names.append(class_name)\n",
        "data = None\n",
        "labels = None\n",
        "    \n",
        "    #randomize the dataset \n",
        "permutation = np.random.permutation(y.shape[0])\n",
        "X_train = x[permutation, :]\n",
        "y = y[permutation].astype(int)\n",
        "\n",
        "X_train.shape"
      ],
      "metadata": {
        "id": "KP5vpPp1maAU",
        "colab": {
          "base_uri": "https://localhost:8080/"
        },
        "outputId": "d170d9a2-0366-4092-d124-536563dec491"
      },
      "execution_count": 5,
      "outputs": [
        {
          "output_type": "execute_result",
          "data": {
            "text/plain": [
              "(30000, 64, 64, 1)"
            ]
          },
          "metadata": {},
          "execution_count": 5
        }
      ]
    },
    {
      "cell_type": "code",
      "source": [
        "X_train /= 255.0\n",
        "fig, axes = plt.subplots(rows,cols, figsize=(8,8))\n",
        "for i in list(range(0, min(len(X_train),(rows*cols)) )):    \n",
        "    #fig = matplotlib.figure.Figure()\n",
        "    a = fig.add_subplot(rows,cols,i+1)\n",
        "    a.text(10., -1.5, f'{class_names[y[i]]}')\n",
        "    imgplot = plt.imshow(X_train[i].reshape((64,64)), interpolation='nearest',cmap='Greys_r')\n",
        "    plt.xticks([])\n",
        "    plt.yticks([])"
      ],
      "metadata": {
        "colab": {
          "base_uri": "https://localhost:8080/",
          "height": 487
        },
        "id": "DXY_4cBBVOHM",
        "outputId": "c8363870-b28b-4832-89eb-b7822c7c2447"
      },
      "execution_count": 6,
      "outputs": [
        {
          "output_type": "display_data",
          "data": {
            "text/plain": [
              "<Figure size 576x576 with 40 Axes>"
            ],
            "image/png": "[encoded data removed]"
          },
          "metadata": {
            "needs_background": "light"
          }
        }
      ]
    },
    {
      "cell_type": "code",
      "source": [
        "X_train /= 255.0"
      ],
      "metadata": {
        "id": "k2jSzDlGmaCn"
      },
      "execution_count": 7,
      "outputs": []
    },
    {
      "cell_type": "code",
      "source": [
        "class_names"
      ],
      "metadata": {
        "colab": {
          "base_uri": "https://localhost:8080/"
        },
        "id": "OYPzojbGOLn4",
        "outputId": "b60332fd-25d5-4133-aa2d-4aae37a91b4c"
      },
      "execution_count": 8,
      "outputs": [
        {
          "output_type": "execute_result",
          "data": {
            "text/plain": [
              "['alarm clock',\n",
              " 'apple',\n",
              " 'birthday cake',\n",
              " 'butterfly',\n",
              " 'candle',\n",
              " 'ceiling fan',\n",
              " 'donut',\n",
              " 'door',\n",
              " 'eyeglasses',\n",
              " 't-shirt']"
            ]
          },
          "metadata": {},
          "execution_count": 8
        }
      ]
    },
    {
      "cell_type": "code",
      "source": [
        "from tensorflow.keras.utils import to_categorical\n",
        "\n",
        "y = to_categorical(y, len(class_names))\n",
        "y.shape"
      ],
      "metadata": {
        "id": "-V8HrFEFmaEx",
        "colab": {
          "base_uri": "https://localhost:8080/"
        },
        "outputId": "0a5f4fe0-f3ee-4126-fb28-2f0dfcdb98fd"
      },
      "execution_count": 9,
      "outputs": [
        {
          "output_type": "execute_result",
          "data": {
            "text/plain": [
              "(30000, 10)"
            ]
          },
          "metadata": {},
          "execution_count": 9
        }
      ]
    },
    {
      "cell_type": "code",
      "source": [
        "from sklearn.model_selection import train_test_split\n",
        "X_train, X_test, y_train, y_test = train_test_split(X_train, y, test_size=0.20, random_state=0)\n",
        "\n",
        "X_train=X_train.reshape(X_train.shape[0],64,64,1)\n",
        "X_test=X_test.reshape(X_test.shape[0],64,64,1)\n",
        "print(X_train.shape)\n",
        "print(X_test.shape)\n",
        "print(y_train.shape)\n",
        "print(y_test.shape)"
      ],
      "metadata": {
        "id": "fWwA3Q4zmgJo",
        "colab": {
          "base_uri": "https://localhost:8080/"
        },
        "outputId": "077d592a-9709-4110-d853-4ef142fbae8f"
      },
      "execution_count": 10,
      "outputs": [
        {
          "output_type": "stream",
          "name": "stdout",
          "text": [
            "(24000, 64, 64, 1)\n",
            "(6000, 64, 64, 1)\n",
            "(24000, 10)\n",
            "(6000, 10)\n"
          ]
        }
      ]
    },
    {
      "cell_type": "code",
      "source": [
        "from keras.preprocessing.image import ImageDataGenerator\n",
        "datagen = ImageDataGenerator(\n",
        "        featurewise_center=False,  # set input mean to 0 over the dataset\n",
        "        samplewise_center=False,  # set each sample mean to 0\n",
        "        featurewise_std_normalization=False,  # divide inputs by std of the dataset\n",
        "        samplewise_std_normalization=False,  # divide each input by its std\n",
        "        zca_whitening=False,  # apply ZCA whitening\n",
        "        rotation_range = 30,  # randomly rotate images in the range (degrees, 0 to 180)\n",
        "        zoom_range = 0.2, # Randomly zoom image \n",
        "        width_shift_range=0.1,  # randomly shift images horizontally (fraction of total width)\n",
        "        height_shift_range=0.1,  # randomly shift images vertically (fraction of total height)\n",
        "        horizontal_flip = True,  # randomly flip images\n",
        "        vertical_flip=False)  # randomly flip images\n",
        "\n",
        "datagen.fit(X_train)"
      ],
      "metadata": {
        "id": "_qqFdHoEmgMz"
      },
      "execution_count": 11,
      "outputs": []
    },
    {
      "cell_type": "code",
      "source": [
        "def identity_block(X: tf.Tensor, level: int, block: int, filters: List[int]) -> tf.Tensor:\n",
        "\n",
        "    # layers will be called conv{level}_iden{block}_{convlayer_number_within_block}'\n",
        "    conv_name = f'conv{level}_{block}' + '_{layer}_{type}'\n",
        "\n",
        "    # unpack number of filters to be used for each conv layer\n",
        "    f1, f2, f3 = filters\n",
        "\n",
        "    # the shortcut branch of the identity block\n",
        "    # takes the value of the block input\n",
        "    X_shortcut = X\n",
        "\n",
        "    # first convolutional layer (plus batch norm & relu activation, of course)\n",
        "    X = Conv2D(filters=f1, kernel_size=(1, 1), strides=(1, 1),\n",
        "               padding='valid', name=conv_name.format(layer=1, type='conv'),\n",
        "               kernel_initializer=glorot_uniform(seed=0))(X)\n",
        "    X = BatchNormalization(axis=3, name=conv_name.format(layer=1, type='bn'))(X)\n",
        "    X = Activation('relu', name=conv_name.format(layer=1, type='relu'))(X)\n",
        "\n",
        "    # second convolutional layer\n",
        "    X = Conv2D(filters=f2, kernel_size=(3, 3), strides=(1, 1),\n",
        "               padding='same', name=conv_name.format(layer=2, type='conv'),\n",
        "               kernel_initializer=glorot_uniform(seed=0))(X)\n",
        "    X = BatchNormalization(axis=3, name=conv_name.format(layer=2, type='bn'))(X)\n",
        "    X = Activation('relu')(X)\n",
        "\n",
        "    # third convolutional layer\n",
        "    X = Conv2D(filters=f3, kernel_size=(1, 1), strides=(1, 1),\n",
        "               padding='valid', name=conv_name.format(layer=3, type='conv'),\n",
        "               kernel_initializer=glorot_uniform(seed=0))(X)\n",
        "    X = BatchNormalization(axis=3, name=conv_name.format(layer=3, type='bn'))(X)\n",
        "\n",
        "    # add shortcut branch to main path\n",
        "    X = Add()([X, X_shortcut])\n",
        "\n",
        "    # relu activation at the end of the block\n",
        "    X = Activation('relu', name=conv_name.format(layer=3, type='relu'))(X)\n",
        "\n",
        "    return X"
      ],
      "metadata": {
        "id": "-frrs6MzmaHF"
      },
      "execution_count": 12,
      "outputs": []
    },
    {
      "cell_type": "code",
      "source": [
        "def convolutional_block(X: tf.Tensor, level: int, block: int, filters: List[int], s: Tuple[int,int,int]=(2, 2)) -> tf.Tensor:\n",
        "\n",
        "    # layers will be called conv{level}_{block}_{convlayer_number_within_block}'\n",
        "    conv_name = f'conv{level}_{block}' + '_{layer}_{type}'\n",
        "\n",
        "    # unpack number of filters to be used for each conv layer\n",
        "    f1, f2, f3 = filters\n",
        "\n",
        "    # the shortcut branch of the convolutional block\n",
        "    X_shortcut = X\n",
        "\n",
        "    # first convolutional layer\n",
        "    X = Conv2D(filters=f1, kernel_size=(1, 1), strides=s, padding='valid',\n",
        "               name=conv_name.format(layer=1, type='conv'),\n",
        "               kernel_initializer=glorot_uniform(seed=0))(X)\n",
        "    X = BatchNormalization(axis=3, name=conv_name.format(layer=1, type='bn'))(X)\n",
        "    X = Activation('relu', name=conv_name.format(layer=1, type='relu'))(X)\n",
        "\n",
        "    # second convolutional layer\n",
        "    X = Conv2D(filters=f2, kernel_size=(3, 3), strides=(1, 1), padding='same',\n",
        "               name=conv_name.format(layer=2, type='conv'),\n",
        "               kernel_initializer=glorot_uniform(seed=0))(X)\n",
        "    X = BatchNormalization(axis=3, name=conv_name.format(layer=2, type='bn'))(X)\n",
        "    X = Activation('relu', name=conv_name.format(layer=2, type='relu'))(X)\n",
        "\n",
        "    # third convolutional layer\n",
        "    X = Conv2D(filters=f3, kernel_size=(1, 1), strides=(1, 1), padding='valid',\n",
        "               name=conv_name.format(layer=3, type='conv'),\n",
        "               kernel_initializer=glorot_uniform(seed=0))(X)\n",
        "    X = BatchNormalization(axis=3, name=conv_name.format(layer=3, type='bn'))(X)\n",
        "\n",
        "    # shortcut path\n",
        "    X_shortcut = Conv2D(filters=f3, kernel_size=(1, 1), strides=s, padding='valid',\n",
        "                        name=conv_name.format(layer='short', type='conv'),\n",
        "                        kernel_initializer=glorot_uniform(seed=0))(X_shortcut)\n",
        "    X_shortcut = BatchNormalization(axis=3, name=conv_name.format(layer='short', type='bn'))(X_shortcut)\n",
        "\n",
        "    # add shortcut branch to main path\n",
        "    X = Add()([X, X_shortcut])\n",
        "\n",
        "    # nonlinearity\n",
        "    X = Activation('relu', name=conv_name.format(layer=3, type='relu'))(X)\n",
        "\n",
        "    return X"
      ],
      "metadata": {
        "id": "h8ghFLkAygGq"
      },
      "execution_count": 13,
      "outputs": []
    },
    {
      "cell_type": "code",
      "source": [
        "def ResNet50(input_size: Tuple[int,int,int], classes: int) -> Model:\n",
        "\n",
        "    # tensor placeholder for the model's input\n",
        "    X_input = Input(input_size)\n",
        "\n",
        "    ### Level 1 ###\n",
        "\n",
        "    # padding\n",
        "    X = ZeroPadding2D((3, 3))(X_input)\n",
        "\n",
        "    # convolutional layer, followed by batch normalization and relu activation\n",
        "    X = Conv2D(filters=64, kernel_size=(7, 7), strides=(2, 2),\n",
        "               name='conv1_1_1_conv',\n",
        "               kernel_initializer=glorot_uniform(seed=0))(X)\n",
        "    X = BatchNormalization(axis=3, name='conv1_1_1_nb')(X)\n",
        "    X = Activation('relu')(X)\n",
        "\n",
        "    ### Level 2 ###\n",
        "\n",
        "    # max pooling layer to halve the size coming from the previous layer\n",
        "    X = MaxPooling2D((3, 3), strides=(2, 2))(X)\n",
        "\n",
        "    # 1x convolutional block\n",
        "    X = convolutional_block(X, level=2, block=1, filters=[64, 64, 256], s=(1, 1))\n",
        "\n",
        "    # 2x identity blocks\n",
        "    X = identity_block(X, level=2, block=2, filters=[64, 64, 256])\n",
        "    X = identity_block(X, level=2, block=3, filters=[64, 64, 256])\n",
        "\n",
        "    ### Level 3 ###\n",
        "\n",
        "    # 1x convolutional block\n",
        "    X = convolutional_block(X, level=3, block=1, filters=[128, 128, 512], s=(2, 2))\n",
        "\n",
        "    # 3x identity blocks\n",
        "    X = identity_block(X, level=3, block=2, filters=[128, 128, 512])\n",
        "    X = identity_block(X, level=3, block=3, filters=[128, 128, 512])\n",
        "    X = identity_block(X, level=3, block=4, filters=[128, 128, 512])\n",
        "\n",
        "    ### Level 4 ###\n",
        "    # 1x convolutional block\n",
        "    X = convolutional_block(X, level=4, block=1, filters=[256, 256, 1024], s=(2, 2))\n",
        "    # 5x identity blocks\n",
        "    X = identity_block(X, level=4, block=2, filters=[256, 256, 1024])\n",
        "    X = identity_block(X, level=4, block=3, filters=[256, 256, 1024])\n",
        "    X = identity_block(X, level=4, block=4, filters=[256, 256, 1024])\n",
        "    X = identity_block(X, level=4, block=5, filters=[256, 256, 1024])\n",
        "    X = identity_block(X, level=4, block=6, filters=[256, 256, 1024])\n",
        "\n",
        "    ### Level 5 ###\n",
        "    # 1x convolutional block\n",
        "    X = convolutional_block(X, level=5, block=1, filters=[512, 512, 2048], s=(2, 2))\n",
        "    # 2x identity blocks\n",
        "    X = identity_block(X, level=5, block=2, filters=[512, 512, 2048])\n",
        "    X = identity_block(X, level=5, block=3, filters=[512, 512, 2048])\n",
        "\n",
        "    # Pooling layers\n",
        "    X = AveragePooling2D(pool_size=(2, 2), name='avg_pool')(X)\n",
        "\n",
        "    # Output layer\n",
        "    X = Flatten()(X)\n",
        "    X = Dense(classes, activation='softmax', name='fc_' + str(classes),\n",
        "              kernel_initializer=glorot_uniform(seed=0))(X)\n",
        "\n",
        "    # Create model\n",
        "    model = Model(inputs=X_input, outputs=X, name='ResNet50')\n",
        "\n",
        "    return model"
      ],
      "metadata": {
        "id": "vUNL4N8Yykwa"
      },
      "execution_count": 14,
      "outputs": []
    },
    {
      "cell_type": "code",
      "source": [
        "# set input image parameters\n",
        "image_size = (64, 64) \n",
        "channels = 1\n",
        "num_classes = 10"
      ],
      "metadata": {
        "id": "MooAcoS3yp4C"
      },
      "execution_count": 16,
      "outputs": []
    },
    {
      "cell_type": "code",
      "source": [
        "model = ResNet50(input_size = (image_size[1], image_size[0], channels), classes = num_classes)"
      ],
      "metadata": {
        "id": "ZVIEulgEyxVY"
      },
      "execution_count": 17,
      "outputs": []
    },
    {
      "cell_type": "code",
      "source": [
        "model.summary()"
      ],
      "metadata": {
        "colab": {
          "base_uri": "https://localhost:8080/"
        },
        "id": "z3CfP15nyzjv",
        "outputId": "5a7f7f5a-49ce-45e0-dee3-cb4df3cc3e00"
      },
      "execution_count": 18,
      "outputs": [
        {
          "output_type": "stream",
          "name": "stdout",
          "text": [
            "Model: \"ResNet50\"\n",
            "__________________________________________________________________________________________________\n",
            " Layer (type)                   Output Shape         Param #     Connected to                     \n",
            "==================================================================================================\n",
            " input_1 (InputLayer)           [(None, 64, 64, 1)]  0           []                               \n",
            "                                                                                                  \n",
            " zero_padding2d (ZeroPadding2D)  (None, 70, 70, 1)   0           ['input_1[0][0]']                \n",
            "                                                                                                  \n",
            " conv1_1_1_conv (Conv2D)        (None, 32, 32, 64)   3200        ['zero_padding2d[0][0]']         \n",
            "                                                                                                  \n",
            " conv1_1_1_nb (BatchNormalizati  (None, 32, 32, 64)  256         ['conv1_1_1_conv[0][0]']         \n",
            " on)                                                                                              \n",
            "                                                                                                  \n",
            " activation (Activation)        (None, 32, 32, 64)   0           ['conv1_1_1_nb[0][0]']           \n",
            "                                                                                                  \n",
            " max_pooling2d (MaxPooling2D)   (None, 15, 15, 64)   0           ['activation[0][0]']             \n",
            "                                                                                                  \n",
            " conv2_1_1_conv (Conv2D)        (None, 15, 15, 64)   4160        ['max_pooling2d[0][0]']          \n",
            "                                                                                                  \n",
            " conv2_1_1_bn (BatchNormalizati  (None, 15, 15, 64)  256         ['conv2_1_1_conv[0][0]']         \n",
            " on)                                                                                              \n",
            "                                                                                                  \n",
            " conv2_1_1_relu (Activation)    (None, 15, 15, 64)   0           ['conv2_1_1_bn[0][0]']           \n",
            "                                                                                                  \n",
            " conv2_1_2_conv (Conv2D)        (None, 15, 15, 64)   36928       ['conv2_1_1_relu[0][0]']         \n",
            "                                                                                                  \n",
            " conv2_1_2_bn (BatchNormalizati  (None, 15, 15, 64)  256         ['conv2_1_2_conv[0][0]']         \n",
            " on)                                                                                              \n",
            "                                                                                                  \n",
            " conv2_1_2_relu (Activation)    (None, 15, 15, 64)   0           ['conv2_1_2_bn[0][0]']           \n",
            "                                                                                                  \n",
            " conv2_1_3_conv (Conv2D)        (None, 15, 15, 256)  16640       ['conv2_1_2_relu[0][0]']         \n",
            "                                                                                                  \n",
            " conv2_1_short_conv (Conv2D)    (None, 15, 15, 256)  16640       ['max_pooling2d[0][0]']          \n",
            "                                                                                                  \n",
            " conv2_1_3_bn (BatchNormalizati  (None, 15, 15, 256)  1024       ['conv2_1_3_conv[0][0]']         \n",
            " on)                                                                                              \n",
            "                                                                                                  \n",
            " conv2_1_short_bn (BatchNormali  (None, 15, 15, 256)  1024       ['conv2_1_short_conv[0][0]']     \n",
            " zation)                                                                                          \n",
            "                                                                                                  \n",
            " add (Add)                      (None, 15, 15, 256)  0           ['conv2_1_3_bn[0][0]',           \n",
            "                                                                  'conv2_1_short_bn[0][0]']       \n",
            "                                                                                                  \n",
            " conv2_1_3_relu (Activation)    (None, 15, 15, 256)  0           ['add[0][0]']                    \n",
            "                                                                                                  \n",
            " conv2_2_1_conv (Conv2D)        (None, 15, 15, 64)   16448       ['conv2_1_3_relu[0][0]']         \n",
            "                                                                                                  \n",
            " conv2_2_1_bn (BatchNormalizati  (None, 15, 15, 64)  256         ['conv2_2_1_conv[0][0]']         \n",
            " on)                                                                                              \n",
            "                                                                                                  \n",
            " conv2_2_1_relu (Activation)    (None, 15, 15, 64)   0           ['conv2_2_1_bn[0][0]']           \n",
            "                                                                                                  \n",
            " conv2_2_2_conv (Conv2D)        (None, 15, 15, 64)   36928       ['conv2_2_1_relu[0][0]']         \n",
            "                                                                                                  \n",
            " conv2_2_2_bn (BatchNormalizati  (None, 15, 15, 64)  256         ['conv2_2_2_conv[0][0]']         \n",
            " on)                                                                                              \n",
            "                                                                                                  \n",
            " activation_1 (Activation)      (None, 15, 15, 64)   0           ['conv2_2_2_bn[0][0]']           \n",
            "                                                                                                  \n",
            " conv2_2_3_conv (Conv2D)        (None, 15, 15, 256)  16640       ['activation_1[0][0]']           \n",
            "                                                                                                  \n",
            " conv2_2_3_bn (BatchNormalizati  (None, 15, 15, 256)  1024       ['conv2_2_3_conv[0][0]']         \n",
            " on)                                                                                              \n",
            "                                                                                                  \n",
            " add_1 (Add)                    (None, 15, 15, 256)  0           ['conv2_2_3_bn[0][0]',           \n",
            "                                                                  'conv2_1_3_relu[0][0]']         \n",
            "                                                                                                  \n",
            " conv2_2_3_relu (Activation)    (None, 15, 15, 256)  0           ['add_1[0][0]']                  \n",
            "                                                                                                  \n",
            " conv2_3_1_conv (Conv2D)        (None, 15, 15, 64)   16448       ['conv2_2_3_relu[0][0]']         \n",
            "                                                                                                  \n",
            " conv2_3_1_bn (BatchNormalizati  (None, 15, 15, 64)  256         ['conv2_3_1_conv[0][0]']         \n",
            " on)                                                                                              \n",
            "                                                                                                  \n",
            " conv2_3_1_relu (Activation)    (None, 15, 15, 64)   0           ['conv2_3_1_bn[0][0]']           \n",
            "                                                                                                  \n",
            " conv2_3_2_conv (Conv2D)        (None, 15, 15, 64)   36928       ['conv2_3_1_relu[0][0]']         \n",
            "                                                                                                  \n",
            " conv2_3_2_bn (BatchNormalizati  (None, 15, 15, 64)  256         ['conv2_3_2_conv[0][0]']         \n",
            " on)                                                                                              \n",
            "                                                                                                  \n",
            " activation_2 (Activation)      (None, 15, 15, 64)   0           ['conv2_3_2_bn[0][0]']           \n",
            "                                                                                                  \n",
            " conv2_3_3_conv (Conv2D)        (None, 15, 15, 256)  16640       ['activation_2[0][0]']           \n",
            "                                                                                                  \n",
            " conv2_3_3_bn (BatchNormalizati  (None, 15, 15, 256)  1024       ['conv2_3_3_conv[0][0]']         \n",
            " on)                                                                                              \n",
            "                                                                                                  \n",
            " add_2 (Add)                    (None, 15, 15, 256)  0           ['conv2_3_3_bn[0][0]',           \n",
            "                                                                  'conv2_2_3_relu[0][0]']         \n",
            "                                                                                                  \n",
            " conv2_3_3_relu (Activation)    (None, 15, 15, 256)  0           ['add_2[0][0]']                  \n",
            "                                                                                                  \n",
            " conv3_1_1_conv (Conv2D)        (None, 8, 8, 128)    32896       ['conv2_3_3_relu[0][0]']         \n",
            "                                                                                                  \n",
            " conv3_1_1_bn (BatchNormalizati  (None, 8, 8, 128)   512         ['conv3_1_1_conv[0][0]']         \n",
            " on)                                                                                              \n",
            "                                                                                                  \n",
            " conv3_1_1_relu (Activation)    (None, 8, 8, 128)    0           ['conv3_1_1_bn[0][0]']           \n",
            "                                                                                                  \n",
            " conv3_1_2_conv (Conv2D)        (None, 8, 8, 128)    147584      ['conv3_1_1_relu[0][0]']         \n",
            "                                                                                                  \n",
            " conv3_1_2_bn (BatchNormalizati  (None, 8, 8, 128)   512         ['conv3_1_2_conv[0][0]']         \n",
            " on)                                                                                              \n",
            "                                                                                                  \n",
            " conv3_1_2_relu (Activation)    (None, 8, 8, 128)    0           ['conv3_1_2_bn[0][0]']           \n",
            "                                                                                                  \n",
            " conv3_1_3_conv (Conv2D)        (None, 8, 8, 512)    66048       ['conv3_1_2_relu[0][0]']         \n",
            "                                                                                                  \n",
            " conv3_1_short_conv (Conv2D)    (None, 8, 8, 512)    131584      ['conv2_3_3_relu[0][0]']         \n",
            "                                                                                                  \n",
            " conv3_1_3_bn (BatchNormalizati  (None, 8, 8, 512)   2048        ['conv3_1_3_conv[0][0]']         \n",
            " on)                                                                                              \n",
            "                                                                                                  \n",
            " conv3_1_short_bn (BatchNormali  (None, 8, 8, 512)   2048        ['conv3_1_short_conv[0][0]']     \n",
            " zation)                                                                                          \n",
            "                                                                                                  \n",
            " add_3 (Add)                    (None, 8, 8, 512)    0           ['conv3_1_3_bn[0][0]',           \n",
            "                                                                  'conv3_1_short_bn[0][0]']       \n",
            "                                                                                                  \n",
            " conv3_1_3_relu (Activation)    (None, 8, 8, 512)    0           ['add_3[0][0]']                  \n",
            "                                                                                                  \n",
            " conv3_2_1_conv (Conv2D)        (None, 8, 8, 128)    65664       ['conv3_1_3_relu[0][0]']         \n",
            "                                                                                                  \n",
            " conv3_2_1_bn (BatchNormalizati  (None, 8, 8, 128)   512         ['conv3_2_1_conv[0][0]']         \n",
            " on)                                                                                              \n",
            "                                                                                                  \n",
            " conv3_2_1_relu (Activation)    (None, 8, 8, 128)    0           ['conv3_2_1_bn[0][0]']           \n",
            "                                                                                                  \n",
            " conv3_2_2_conv (Conv2D)        (None, 8, 8, 128)    147584      ['conv3_2_1_relu[0][0]']         \n",
            "                                                                                                  \n",
            " conv3_2_2_bn (BatchNormalizati  (None, 8, 8, 128)   512         ['conv3_2_2_conv[0][0]']         \n",
            " on)                                                                                              \n",
            "                                                                                                  \n",
            " activation_3 (Activation)      (None, 8, 8, 128)    0           ['conv3_2_2_bn[0][0]']           \n",
            "                                                                                                  \n",
            " conv3_2_3_conv (Conv2D)        (None, 8, 8, 512)    66048       ['activation_3[0][0]']           \n",
            "                                                                                                  \n",
            " conv3_2_3_bn (BatchNormalizati  (None, 8, 8, 512)   2048        ['conv3_2_3_conv[0][0]']         \n",
            " on)                                                                                              \n",
            "                                                                                                  \n",
            " add_4 (Add)                    (None, 8, 8, 512)    0           ['conv3_2_3_bn[0][0]',           \n",
            "                                                                  'conv3_1_3_relu[0][0]']         \n",
            "                                                                                                  \n",
            " conv3_2_3_relu (Activation)    (None, 8, 8, 512)    0           ['add_4[0][0]']                  \n",
            "                                                                                                  \n",
            " conv3_3_1_conv (Conv2D)        (None, 8, 8, 128)    65664       ['conv3_2_3_relu[0][0]']         \n",
            "                                                                                                  \n",
            " conv3_3_1_bn (BatchNormalizati  (None, 8, 8, 128)   512         ['conv3_3_1_conv[0][0]']         \n",
            " on)                                                                                              \n",
            "                                                                                                  \n",
            " conv3_3_1_relu (Activation)    (None, 8, 8, 128)    0           ['conv3_3_1_bn[0][0]']           \n",
            "                                                                                                  \n",
            " conv3_3_2_conv (Conv2D)        (None, 8, 8, 128)    147584      ['conv3_3_1_relu[0][0]']         \n",
            "                                                                                                  \n",
            " conv3_3_2_bn (BatchNormalizati  (None, 8, 8, 128)   512         ['conv3_3_2_conv[0][0]']         \n",
            " on)                                                                                              \n",
            "                                                                                                  \n",
            " activation_4 (Activation)      (None, 8, 8, 128)    0           ['conv3_3_2_bn[0][0]']           \n",
            "                                                                                                  \n",
            " conv3_3_3_conv (Conv2D)        (None, 8, 8, 512)    66048       ['activation_4[0][0]']           \n",
            "                                                                                                  \n",
            " conv3_3_3_bn (BatchNormalizati  (None, 8, 8, 512)   2048        ['conv3_3_3_conv[0][0]']         \n",
            " on)                                                                                              \n",
            "                                                                                                  \n",
            " add_5 (Add)                    (None, 8, 8, 512)    0           ['conv3_3_3_bn[0][0]',           \n",
            "                                                                  'conv3_2_3_relu[0][0]']         \n",
            "                                                                                                  \n",
            " conv3_3_3_relu (Activation)    (None, 8, 8, 512)    0           ['add_5[0][0]']                  \n",
            "                                                                                                  \n",
            " conv3_4_1_conv (Conv2D)        (None, 8, 8, 128)    65664       ['conv3_3_3_relu[0][0]']         \n",
            "                                                                                                  \n",
            " conv3_4_1_bn (BatchNormalizati  (None, 8, 8, 128)   512         ['conv3_4_1_conv[0][0]']         \n",
            " on)                                                                                              \n",
            "                                                                                                  \n",
            " conv3_4_1_relu (Activation)    (None, 8, 8, 128)    0           ['conv3_4_1_bn[0][0]']           \n",
            "                                                                                                  \n",
            " conv3_4_2_conv (Conv2D)        (None, 8, 8, 128)    147584      ['conv3_4_1_relu[0][0]']         \n",
            "                                                                                                  \n",
            " conv3_4_2_bn (BatchNormalizati  (None, 8, 8, 128)   512         ['conv3_4_2_conv[0][0]']         \n",
            " on)                                                                                              \n",
            "                                                                                                  \n",
            " activation_5 (Activation)      (None, 8, 8, 128)    0           ['conv3_4_2_bn[0][0]']           \n",
            "                                                                                                  \n",
            " conv3_4_3_conv (Conv2D)        (None, 8, 8, 512)    66048       ['activation_5[0][0]']           \n",
            "                                                                                                  \n",
            " conv3_4_3_bn (BatchNormalizati  (None, 8, 8, 512)   2048        ['conv3_4_3_conv[0][0]']         \n",
            " on)                                                                                              \n",
            "                                                                                                  \n",
            " add_6 (Add)                    (None, 8, 8, 512)    0           ['conv3_4_3_bn[0][0]',           \n",
            "                                                                  'conv3_3_3_relu[0][0]']         \n",
            "                                                                                                  \n",
            " conv3_4_3_relu (Activation)    (None, 8, 8, 512)    0           ['add_6[0][0]']                  \n",
            "                                                                                                  \n",
            " conv4_1_1_conv (Conv2D)        (None, 4, 4, 256)    131328      ['conv3_4_3_relu[0][0]']         \n",
            "                                                                                                  \n",
            " conv4_1_1_bn (BatchNormalizati  (None, 4, 4, 256)   1024        ['conv4_1_1_conv[0][0]']         \n",
            " on)                                                                                              \n",
            "                                                                                                  \n",
            " conv4_1_1_relu (Activation)    (None, 4, 4, 256)    0           ['conv4_1_1_bn[0][0]']           \n",
            "                                                                                                  \n",
            " conv4_1_2_conv (Conv2D)        (None, 4, 4, 256)    590080      ['conv4_1_1_relu[0][0]']         \n",
            "                                                                                                  \n",
            " conv4_1_2_bn (BatchNormalizati  (None, 4, 4, 256)   1024        ['conv4_1_2_conv[0][0]']         \n",
            " on)                                                                                              \n",
            "                                                                                                  \n",
            " conv4_1_2_relu (Activation)    (None, 4, 4, 256)    0           ['conv4_1_2_bn[0][0]']           \n",
            "                                                                                                  \n",
            " conv4_1_3_conv (Conv2D)        (None, 4, 4, 1024)   263168      ['conv4_1_2_relu[0][0]']         \n",
            "                                                                                                  \n",
            " conv4_1_short_conv (Conv2D)    (None, 4, 4, 1024)   525312      ['conv3_4_3_relu[0][0]']         \n",
            "                                                                                                  \n",
            " conv4_1_3_bn (BatchNormalizati  (None, 4, 4, 1024)  4096        ['conv4_1_3_conv[0][0]']         \n",
            " on)                                                                                              \n",
            "                                                                                                  \n",
            " conv4_1_short_bn (BatchNormali  (None, 4, 4, 1024)  4096        ['conv4_1_short_conv[0][0]']     \n",
            " zation)                                                                                          \n",
            "                                                                                                  \n",
            " add_7 (Add)                    (None, 4, 4, 1024)   0           ['conv4_1_3_bn[0][0]',           \n",
            "                                                                  'conv4_1_short_bn[0][0]']       \n",
            "                                                                                                  \n",
            " conv4_1_3_relu (Activation)    (None, 4, 4, 1024)   0           ['add_7[0][0]']                  \n",
            "                                                                                                  \n",
            " conv4_2_1_conv (Conv2D)        (None, 4, 4, 256)    262400      ['conv4_1_3_relu[0][0]']         \n",
            "                                                                                                  \n",
            " conv4_2_1_bn (BatchNormalizati  (None, 4, 4, 256)   1024        ['conv4_2_1_conv[0][0]']         \n",
            " on)                                                                                              \n",
            "                                                                                                  \n",
            " conv4_2_1_relu (Activation)    (None, 4, 4, 256)    0           ['conv4_2_1_bn[0][0]']           \n",
            "                                                                                                  \n",
            " conv4_2_2_conv (Conv2D)        (None, 4, 4, 256)    590080      ['conv4_2_1_relu[0][0]']         \n",
            "                                                                                                  \n",
            " conv4_2_2_bn (BatchNormalizati  (None, 4, 4, 256)   1024        ['conv4_2_2_conv[0][0]']         \n",
            " on)                                                                                              \n",
            "                                                                                                  \n",
            " activation_6 (Activation)      (None, 4, 4, 256)    0           ['conv4_2_2_bn[0][0]']           \n",
            "                                                                                                  \n",
            " conv4_2_3_conv (Conv2D)        (None, 4, 4, 1024)   263168      ['activation_6[0][0]']           \n",
            "                                                                                                  \n",
            " conv4_2_3_bn (BatchNormalizati  (None, 4, 4, 1024)  4096        ['conv4_2_3_conv[0][0]']         \n",
            " on)                                                                                              \n",
            "                                                                                                  \n",
            " add_8 (Add)                    (None, 4, 4, 1024)   0           ['conv4_2_3_bn[0][0]',           \n",
            "                                                                  'conv4_1_3_relu[0][0]']         \n",
            "                                                                                                  \n",
            " conv4_2_3_relu (Activation)    (None, 4, 4, 1024)   0           ['add_8[0][0]']                  \n",
            "                                                                                                  \n",
            " conv4_3_1_conv (Conv2D)        (None, 4, 4, 256)    262400      ['conv4_2_3_relu[0][0]']         \n",
            "                                                                                                  \n",
            " conv4_3_1_bn (BatchNormalizati  (None, 4, 4, 256)   1024        ['conv4_3_1_conv[0][0]']         \n",
            " on)                                                                                              \n",
            "                                                                                                  \n",
            " conv4_3_1_relu (Activation)    (None, 4, 4, 256)    0           ['conv4_3_1_bn[0][0]']           \n",
            "                                                                                                  \n",
            " conv4_3_2_conv (Conv2D)        (None, 4, 4, 256)    590080      ['conv4_3_1_relu[0][0]']         \n",
            "                                                                                                  \n",
            " conv4_3_2_bn (BatchNormalizati  (None, 4, 4, 256)   1024        ['conv4_3_2_conv[0][0]']         \n",
            " on)                                                                                              \n",
            "                                                                                                  \n",
            " activation_7 (Activation)      (None, 4, 4, 256)    0           ['conv4_3_2_bn[0][0]']           \n",
            "                                                                                                  \n",
            " conv4_3_3_conv (Conv2D)        (None, 4, 4, 1024)   263168      ['activation_7[0][0]']           \n",
            "                                                                                                  \n",
            " conv4_3_3_bn (BatchNormalizati  (None, 4, 4, 1024)  4096        ['conv4_3_3_conv[0][0]']         \n",
            " on)                                                                                              \n",
            "                                                                                                  \n",
            " add_9 (Add)                    (None, 4, 4, 1024)   0           ['conv4_3_3_bn[0][0]',           \n",
            "                                                                  'conv4_2_3_relu[0][0]']         \n",
            "                                                                                                  \n",
            " conv4_3_3_relu (Activation)    (None, 4, 4, 1024)   0           ['add_9[0][0]']                  \n",
            "                                                                                                  \n",
            " conv4_4_1_conv (Conv2D)        (None, 4, 4, 256)    262400      ['conv4_3_3_relu[0][0]']         \n",
            "                                                                                                  \n",
            " conv4_4_1_bn (BatchNormalizati  (None, 4, 4, 256)   1024        ['conv4_4_1_conv[0][0]']         \n",
            " on)                                                                                              \n",
            "                                                                                                  \n",
            " conv4_4_1_relu (Activation)    (None, 4, 4, 256)    0           ['conv4_4_1_bn[0][0]']           \n",
            "                                                                                                  \n",
            " conv4_4_2_conv (Conv2D)        (None, 4, 4, 256)    590080      ['conv4_4_1_relu[0][0]']         \n",
            "                                                                                                  \n",
            " conv4_4_2_bn (BatchNormalizati  (None, 4, 4, 256)   1024        ['conv4_4_2_conv[0][0]']         \n",
            " on)                                                                                              \n",
            "                                                                                                  \n",
            " activation_8 (Activation)      (None, 4, 4, 256)    0           ['conv4_4_2_bn[0][0]']           \n",
            "                                                                                                  \n",
            " conv4_4_3_conv (Conv2D)        (None, 4, 4, 1024)   263168      ['activation_8[0][0]']           \n",
            "                                                                                                  \n",
            " conv4_4_3_bn (BatchNormalizati  (None, 4, 4, 1024)  4096        ['conv4_4_3_conv[0][0]']         \n",
            " on)                                                                                              \n",
            "                                                                                                  \n",
            " add_10 (Add)                   (None, 4, 4, 1024)   0           ['conv4_4_3_bn[0][0]',           \n",
            "                                                                  'conv4_3_3_relu[0][0]']         \n",
            "                                                                                                  \n",
            " conv4_4_3_relu (Activation)    (None, 4, 4, 1024)   0           ['add_10[0][0]']                 \n",
            "                                                                                                  \n",
            " conv4_5_1_conv (Conv2D)        (None, 4, 4, 256)    262400      ['conv4_4_3_relu[0][0]']         \n",
            "                                                                                                  \n",
            " conv4_5_1_bn (BatchNormalizati  (None, 4, 4, 256)   1024        ['conv4_5_1_conv[0][0]']         \n",
            " on)                                                                                              \n",
            "                                                                                                  \n",
            " conv4_5_1_relu (Activation)    (None, 4, 4, 256)    0           ['conv4_5_1_bn[0][0]']           \n",
            "                                                                                                  \n",
            " conv4_5_2_conv (Conv2D)        (None, 4, 4, 256)    590080      ['conv4_5_1_relu[0][0]']         \n",
            "                                                                                                  \n",
            " conv4_5_2_bn (BatchNormalizati  (None, 4, 4, 256)   1024        ['conv4_5_2_conv[0][0]']         \n",
            " on)                                                                                              \n",
            "                                                                                                  \n",
            " activation_9 (Activation)      (None, 4, 4, 256)    0           ['conv4_5_2_bn[0][0]']           \n",
            "                                                                                                  \n",
            " conv4_5_3_conv (Conv2D)        (None, 4, 4, 1024)   263168      ['activation_9[0][0]']           \n",
            "                                                                                                  \n",
            " conv4_5_3_bn (BatchNormalizati  (None, 4, 4, 1024)  4096        ['conv4_5_3_conv[0][0]']         \n",
            " on)                                                                                              \n",
            "                                                                                                  \n",
            " add_11 (Add)                   (None, 4, 4, 1024)   0           ['conv4_5_3_bn[0][0]',           \n",
            "                                                                  'conv4_4_3_relu[0][0]']         \n",
            "                                                                                                  \n",
            " conv4_5_3_relu (Activation)    (None, 4, 4, 1024)   0           ['add_11[0][0]']                 \n",
            "                                                                                                  \n",
            " conv4_6_1_conv (Conv2D)        (None, 4, 4, 256)    262400      ['conv4_5_3_relu[0][0]']         \n",
            "                                                                                                  \n",
            " conv4_6_1_bn (BatchNormalizati  (None, 4, 4, 256)   1024        ['conv4_6_1_conv[0][0]']         \n",
            " on)                                                                                              \n",
            "                                                                                                  \n",
            " conv4_6_1_relu (Activation)    (None, 4, 4, 256)    0           ['conv4_6_1_bn[0][0]']           \n",
            "                                                                                                  \n",
            " conv4_6_2_conv (Conv2D)        (None, 4, 4, 256)    590080      ['conv4_6_1_relu[0][0]']         \n",
            "                                                                                                  \n",
            " conv4_6_2_bn (BatchNormalizati  (None, 4, 4, 256)   1024        ['conv4_6_2_conv[0][0]']         \n",
            " on)                                                                                              \n",
            "                                                                                                  \n",
            " activation_10 (Activation)     (None, 4, 4, 256)    0           ['conv4_6_2_bn[0][0]']           \n",
            "                                                                                                  \n",
            " conv4_6_3_conv (Conv2D)        (None, 4, 4, 1024)   263168      ['activation_10[0][0]']          \n",
            "                                                                                                  \n",
            " conv4_6_3_bn (BatchNormalizati  (None, 4, 4, 1024)  4096        ['conv4_6_3_conv[0][0]']         \n",
            " on)                                                                                              \n",
            "                                                                                                  \n",
            " add_12 (Add)                   (None, 4, 4, 1024)   0           ['conv4_6_3_bn[0][0]',           \n",
            "                                                                  'conv4_5_3_relu[0][0]']         \n",
            "                                                                                                  \n",
            " conv4_6_3_relu (Activation)    (None, 4, 4, 1024)   0           ['add_12[0][0]']                 \n",
            "                                                                                                  \n",
            " conv5_1_1_conv (Conv2D)        (None, 2, 2, 512)    524800      ['conv4_6_3_relu[0][0]']         \n",
            "                                                                                                  \n",
            " conv5_1_1_bn (BatchNormalizati  (None, 2, 2, 512)   2048        ['conv5_1_1_conv[0][0]']         \n",
            " on)                                                                                              \n",
            "                                                                                                  \n",
            " conv5_1_1_relu (Activation)    (None, 2, 2, 512)    0           ['conv5_1_1_bn[0][0]']           \n",
            "                                                                                                  \n",
            " conv5_1_2_conv (Conv2D)        (None, 2, 2, 512)    2359808     ['conv5_1_1_relu[0][0]']         \n",
            "                                                                                                  \n",
            " conv5_1_2_bn (BatchNormalizati  (None, 2, 2, 512)   2048        ['conv5_1_2_conv[0][0]']         \n",
            " on)                                                                                              \n",
            "                                                                                                  \n",
            " conv5_1_2_relu (Activation)    (None, 2, 2, 512)    0           ['conv5_1_2_bn[0][0]']           \n",
            "                                                                                                  \n",
            " conv5_1_3_conv (Conv2D)        (None, 2, 2, 2048)   1050624     ['conv5_1_2_relu[0][0]']         \n",
            "                                                                                                  \n",
            " conv5_1_short_conv (Conv2D)    (None, 2, 2, 2048)   2099200     ['conv4_6_3_relu[0][0]']         \n",
            "                                                                                                  \n",
            " conv5_1_3_bn (BatchNormalizati  (None, 2, 2, 2048)  8192        ['conv5_1_3_conv[0][0]']         \n",
            " on)                                                                                              \n",
            "                                                                                                  \n",
            " conv5_1_short_bn (BatchNormali  (None, 2, 2, 2048)  8192        ['conv5_1_short_conv[0][0]']     \n",
            " zation)                                                                                          \n",
            "                                                                                                  \n",
            " add_13 (Add)                   (None, 2, 2, 2048)   0           ['conv5_1_3_bn[0][0]',           \n",
            "                                                                  'conv5_1_short_bn[0][0]']       \n",
            "                                                                                                  \n",
            " conv5_1_3_relu (Activation)    (None, 2, 2, 2048)   0           ['add_13[0][0]']                 \n",
            "                                                                                                  \n",
            " conv5_2_1_conv (Conv2D)        (None, 2, 2, 512)    1049088     ['conv5_1_3_relu[0][0]']         \n",
            "                                                                                                  \n",
            " conv5_2_1_bn (BatchNormalizati  (None, 2, 2, 512)   2048        ['conv5_2_1_conv[0][0]']         \n",
            " on)                                                                                              \n",
            "                                                                                                  \n",
            " conv5_2_1_relu (Activation)    (None, 2, 2, 512)    0           ['conv5_2_1_bn[0][0]']           \n",
            "                                                                                                  \n",
            " conv5_2_2_conv (Conv2D)        (None, 2, 2, 512)    2359808     ['conv5_2_1_relu[0][0]']         \n",
            "                                                                                                  \n",
            " conv5_2_2_bn (BatchNormalizati  (None, 2, 2, 512)   2048        ['conv5_2_2_conv[0][0]']         \n",
            " on)                                                                                              \n",
            "                                                                                                  \n",
            " activation_11 (Activation)     (None, 2, 2, 512)    0           ['conv5_2_2_bn[0][0]']           \n",
            "                                                                                                  \n",
            " conv5_2_3_conv (Conv2D)        (None, 2, 2, 2048)   1050624     ['activation_11[0][0]']          \n",
            "                                                                                                  \n",
            " conv5_2_3_bn (BatchNormalizati  (None, 2, 2, 2048)  8192        ['conv5_2_3_conv[0][0]']         \n",
            " on)                                                                                              \n",
            "                                                                                                  \n",
            " add_14 (Add)                   (None, 2, 2, 2048)   0           ['conv5_2_3_bn[0][0]',           \n",
            "                                                                  'conv5_1_3_relu[0][0]']         \n",
            "                                                                                                  \n",
            " conv5_2_3_relu (Activation)    (None, 2, 2, 2048)   0           ['add_14[0][0]']                 \n",
            "                                                                                                  \n",
            " conv5_3_1_conv (Conv2D)        (None, 2, 2, 512)    1049088     ['conv5_2_3_relu[0][0]']         \n",
            "                                                                                                  \n",
            " conv5_3_1_bn (BatchNormalizati  (None, 2, 2, 512)   2048        ['conv5_3_1_conv[0][0]']         \n",
            " on)                                                                                              \n",
            "                                                                                                  \n",
            " conv5_3_1_relu (Activation)    (None, 2, 2, 512)    0           ['conv5_3_1_bn[0][0]']           \n",
            "                                                                                                  \n",
            " conv5_3_2_conv (Conv2D)        (None, 2, 2, 512)    2359808     ['conv5_3_1_relu[0][0]']         \n",
            "                                                                                                  \n",
            " conv5_3_2_bn (BatchNormalizati  (None, 2, 2, 512)   2048        ['conv5_3_2_conv[0][0]']         \n",
            " on)                                                                                              \n",
            "                                                                                                  \n",
            " activation_12 (Activation)     (None, 2, 2, 512)    0           ['conv5_3_2_bn[0][0]']           \n",
            "                                                                                                  \n",
            " conv5_3_3_conv (Conv2D)        (None, 2, 2, 2048)   1050624     ['activation_12[0][0]']          \n",
            "                                                                                                  \n",
            " conv5_3_3_bn (BatchNormalizati  (None, 2, 2, 2048)  8192        ['conv5_3_3_conv[0][0]']         \n",
            " on)                                                                                              \n",
            "                                                                                                  \n",
            " add_15 (Add)                   (None, 2, 2, 2048)   0           ['conv5_3_3_bn[0][0]',           \n",
            "                                                                  'conv5_2_3_relu[0][0]']         \n",
            "                                                                                                  \n",
            " conv5_3_3_relu (Activation)    (None, 2, 2, 2048)   0           ['add_15[0][0]']                 \n",
            "                                                                                                  \n",
            " avg_pool (AveragePooling2D)    (None, 1, 1, 2048)   0           ['conv5_3_3_relu[0][0]']         \n",
            "                                                                                                  \n",
            " flatten (Flatten)              (None, 2048)         0           ['avg_pool[0][0]']               \n",
            "                                                                                                  \n",
            " fc_10 (Dense)                  (None, 10)           20490       ['flatten[0][0]']                \n",
            "                                                                                                  \n",
            "==================================================================================================\n",
            "Total params: 23,601,930\n",
            "Trainable params: 23,548,810\n",
            "Non-trainable params: 53,120\n",
            "__________________________________________________________________________________________________\n"
          ]
        }
      ]
    },
    {
      "cell_type": "code",
      "source": [
        "model.compile(\n",
        "    optimizer='adam', # optimizer\n",
        "    loss='categorical_crossentropy', # loss function to optimize \n",
        "    metrics=['accuracy'] # metrics to monitor\n",
        ")"
      ],
      "metadata": {
        "id": "3IzeVqDiy2Gh"
      },
      "execution_count": 19,
      "outputs": []
    },
    {
      "cell_type": "code",
      "source": [
        "from keras.callbacks import ReduceLROnPlateau,EarlyStopping\n",
        "\n",
        "erlystop=EarlyStopping(monitor='val_accuracy', min_delta=0, patience=7, verbose=0,mode='max', baseline=None)\n",
        "cp_callback = ModelCheckpoint('/content/checkpoint', verbose=1, save_weights_only=True,save_freq='epoch',save_best_only=True,monitor='val_accuracy',mode='max')\n",
        "rlrop = ReduceLROnPlateau(monitor='val_accuracy', patience=3,verbose=1,mode='max')"
      ],
      "metadata": {
        "id": "EOEp4if39iNX"
      },
      "execution_count": 20,
      "outputs": []
    },
    {
      "cell_type": "code",
      "source": [
        "start = time.time()\n",
        "\n",
        "modelHistory = model.fit(\n",
        "    X_train,\n",
        "    y_train, \n",
        "    # validation_data=norm_val_ds,\n",
        "    validation_data=(X_test,y_test),\n",
        "    callbacks=[cp_callback, rlrop, erlystop],\n",
        "    epochs = 5,\n",
        "    verbose=1)\n",
        "\n",
        "stop = time.time()\n",
        "\n",
        "print(f'Training took: {(stop-start)/60} minutes')"
      ],
      "metadata": {
        "colab": {
          "base_uri": "https://localhost:8080/"
        },
        "id": "sQOJMjJ3zLBO",
        "outputId": "79b40c79-10b8-4004-e2f4-6e3774710412"
      },
      "execution_count": 37,
      "outputs": [
        {
          "output_type": "stream",
          "name": "stdout",
          "text": [
            "Epoch 1/15\n",
            "750/750 [==============================] - ETA: 0s - loss: 8.0960e-04 - accuracy: 1.0000\n",
            "Epoch 1: val_accuracy did not improve from 0.96850\n",
            "750/750 [==============================] - 43s 57ms/step - loss: 8.0960e-04 - accuracy: 1.0000 - val_loss: 0.1659 - val_accuracy: 0.9680 - lr: 1.0000e-05\n",
            "Epoch 2/15\n",
            "750/750 [==============================] - ETA: 0s - loss: 7.2683e-04 - accuracy: 0.9998\n",
            "Epoch 2: val_accuracy did not improve from 0.96850\n",
            "750/750 [==============================] - 42s 56ms/step - loss: 7.2683e-04 - accuracy: 0.9998 - val_loss: 0.1600 - val_accuracy: 0.9678 - lr: 1.0000e-05\n",
            "Epoch 3/15\n",
            "750/750 [==============================] - ETA: 0s - loss: 6.8765e-04 - accuracy: 0.9999\n",
            "Epoch 3: val_accuracy did not improve from 0.96850\n",
            "750/750 [==============================] - 42s 56ms/step - loss: 6.8765e-04 - accuracy: 0.9999 - val_loss: 0.1700 - val_accuracy: 0.9673 - lr: 1.0000e-05\n",
            "Epoch 4/15\n",
            "750/750 [==============================] - ETA: 0s - loss: 5.6645e-04 - accuracy: 0.9999\n",
            "Epoch 4: val_accuracy did not improve from 0.96850\n",
            "\n",
            "Epoch 4: ReduceLROnPlateau reducing learning rate to 1.0000000656873453e-06.\n",
            "750/750 [==============================] - 45s 60ms/step - loss: 5.6645e-04 - accuracy: 0.9999 - val_loss: 0.1802 - val_accuracy: 0.9665 - lr: 1.0000e-05\n",
            "Epoch 5/15\n",
            "750/750 [==============================] - ETA: 0s - loss: 5.8964e-04 - accuracy: 0.9999\n",
            "Epoch 5: val_accuracy did not improve from 0.96850\n",
            "750/750 [==============================] - 42s 56ms/step - loss: 5.8964e-04 - accuracy: 0.9999 - val_loss: 0.1705 - val_accuracy: 0.9680 - lr: 1.0000e-06\n",
            "Epoch 6/15\n",
            "750/750 [==============================] - ETA: 0s - loss: 2.8373e-04 - accuracy: 1.0000\n",
            "Epoch 6: val_accuracy did not improve from 0.96850\n",
            "750/750 [==============================] - 43s 57ms/step - loss: 2.8373e-04 - accuracy: 1.0000 - val_loss: 0.1717 - val_accuracy: 0.9677 - lr: 1.0000e-06\n",
            "Epoch 7/15\n",
            "750/750 [==============================] - ETA: 0s - loss: 3.1624e-04 - accuracy: 1.0000\n",
            "Epoch 7: val_accuracy did not improve from 0.96850\n",
            "\n",
            "Epoch 7: ReduceLROnPlateau reducing learning rate to 1.0000001111620805e-07.\n",
            "750/750 [==============================] - 42s 56ms/step - loss: 3.1624e-04 - accuracy: 1.0000 - val_loss: 0.1709 - val_accuracy: 0.9677 - lr: 1.0000e-06\n",
            "Epoch 8/15\n",
            "750/750 [==============================] - ETA: 0s - loss: 3.2625e-04 - accuracy: 1.0000\n",
            "Epoch 8: val_accuracy did not improve from 0.96850\n",
            "750/750 [==============================] - 42s 56ms/step - loss: 3.2625e-04 - accuracy: 1.0000 - val_loss: 0.1714 - val_accuracy: 0.9678 - lr: 1.0000e-07\n",
            "Training took: 5.6855507890383405 minutes\n"
          ]
        }
      ]
    },
    {
      "cell_type": "code",
      "source": [
        "model.evaluate(X_train, y_train)"
      ],
      "metadata": {
        "colab": {
          "base_uri": "https://localhost:8080/"
        },
        "id": "0liFJb02ygXs",
        "outputId": "e93acee6-e4af-410f-c93c-d22cd451cd4f"
      },
      "execution_count": 38,
      "outputs": [
        {
          "output_type": "stream",
          "name": "stdout",
          "text": [
            "750/750 [==============================] - 13s 17ms/step - loss: 9.5657e-05 - accuracy: 1.0000\n"
          ]
        },
        {
          "output_type": "execute_result",
          "data": {
            "text/plain": [
              "[9.565674554323778e-05, 1.0]"
            ]
          },
          "metadata": {},
          "execution_count": 38
        }
      ]
    },
    {
      "cell_type": "code",
      "source": [
        "model.evaluate(X_test, y_test)"
      ],
      "metadata": {
        "colab": {
          "base_uri": "https://localhost:8080/"
        },
        "id": "8QAgVfc89Q3h",
        "outputId": "41504858-dfed-46fc-f0c3-d02b7271e777"
      },
      "execution_count": 39,
      "outputs": [
        {
          "output_type": "stream",
          "name": "stdout",
          "text": [
            "188/188 [==============================] - 3s 18ms/step - loss: 0.1714 - accuracy: 0.9678\n"
          ]
        },
        {
          "output_type": "execute_result",
          "data": {
            "text/plain": [
              "[0.17139144241809845, 0.9678333401679993]"
            ]
          },
          "metadata": {},
          "execution_count": 39
        }
      ]
    },
    {
      "cell_type": "code",
      "source": [
        "model.predict(X_test)"
      ],
      "metadata": {
        "colab": {
          "base_uri": "https://localhost:8080/"
        },
        "id": "K38S3GmF9DHA",
        "outputId": "93accd3a-f059-4928-bea9-f8a13c6fd797"
      },
      "execution_count": 40,
      "outputs": [
        {
          "output_type": "stream",
          "name": "stdout",
          "text": [
            "188/188 [==============================] - 3s 15ms/step\n"
          ]
        },
        {
          "output_type": "execute_result",
          "data": {
            "text/plain": [
              "array([[3.2868057e-12, 4.1866185e-13, 1.0000000e+00, ..., 4.6024707e-13,\n",
              "        1.1857041e-13, 2.1515657e-14],\n",
              "       [1.3374278e-12, 1.3084100e-14, 6.0572508e-19, ..., 3.8900851e-11,\n",
              "        3.0746843e-17, 1.2657604e-13],\n",
              "       [2.4961385e-12, 1.6491720e-14, 1.0000000e+00, ..., 2.1538023e-15,\n",
              "        5.0865425e-15, 1.1712874e-16],\n",
              "       ...,\n",
              "       [2.5416291e-09, 4.3518444e-12, 8.1388309e-09, ..., 1.0000000e+00,\n",
              "        3.5447692e-10, 4.9456178e-10],\n",
              "       [6.7863901e-09, 8.2610837e-12, 3.6746425e-11, ..., 1.2191673e-09,\n",
              "        4.2800635e-10, 2.4785972e-08],\n",
              "       [2.3898749e-18, 5.6753809e-22, 1.2800122e-27, ..., 1.4214893e-12,\n",
              "        1.7534771e-28, 7.1723979e-18]], dtype=float32)"
            ]
          },
          "metadata": {},
          "execution_count": 40
        }
      ]
    },
    {
      "cell_type": "code",
      "source": [
        "print(modelHistory.history.keys())"
      ],
      "metadata": {
        "id": "XA05lfy7zwKc",
        "colab": {
          "base_uri": "https://localhost:8080/"
        },
        "outputId": "8b748233-3ea5-49dd-c464-1ac97780db9f"
      },
      "execution_count": 41,
      "outputs": [
        {
          "output_type": "stream",
          "name": "stdout",
          "text": [
            "dict_keys(['loss', 'accuracy', 'val_loss', 'val_accuracy', 'lr'])\n"
          ]
        }
      ]
    },
    {
      "cell_type": "code",
      "source": [
        "# summarize history for accuracy\n",
        "# plt.subplot(2, 1, 1)\n",
        "plt.plot(modelHistory.history['accuracy'])\n",
        "plt.plot(modelHistory.history['val_accuracy'])\n",
        "plt.title('model accuracy')\n",
        "plt.ylabel('accuracy')\n",
        "plt.xlabel('epoch')\n",
        "plt.legend(['train', 'val'], loc='upper left')"
      ],
      "metadata": {
        "colab": {
          "base_uri": "https://localhost:8080/",
          "height": 312
        },
        "id": "PWlrt-9i_j1A",
        "outputId": "2a9ceaab-7e50-4bfa-f6f4-79f4dab68ffa"
      },
      "execution_count": 42,
      "outputs": [
        {
          "output_type": "execute_result",
          "data": {
            "text/plain": [
              "<matplotlib.legend.Legend at 0x7f1ae04d9dc0>"
            ]
          },
          "metadata": {},
          "execution_count": 42
        },
        {
          "output_type": "display_data",
          "data": {
            "text/plain": [
              "<Figure size 432x288 with 1 Axes>"
            ],
            "image/png": "[encoded data removed]"
          },
          "metadata": {
            "needs_background": "light"
          }
        }
      ]
    },
    {
      "cell_type": "code",
      "source": [
        "# summarize history for accuracy\n",
        "# plt.subplot(2, 1, 1)\n",
        "plt.plot(modelHistory.history['loss'])\n",
        "plt.plot(modelHistory.history['val_loss'])\n",
        "plt.title('model loss')\n",
        "plt.ylabel('loss')\n",
        "plt.xlabel('epoch')\n",
        "plt.legend(['train', 'val'], loc='upper left')"
      ],
      "metadata": {
        "colab": {
          "base_uri": "https://localhost:8080/",
          "height": 312
        },
        "id": "ZUrQOu5_8ujw",
        "outputId": "b4f7e777-2d4f-4974-901b-74ed8d45e203"
      },
      "execution_count": 43,
      "outputs": [
        {
          "output_type": "execute_result",
          "data": {
            "text/plain": [
              "<matplotlib.legend.Legend at 0x7f1ae0506970>"
            ]
          },
          "metadata": {},
          "execution_count": 43
        },
        {
          "output_type": "display_data",
          "data": {
            "text/plain": [
              "<Figure size 432x288 with 1 Axes>"
            ],
            "image/png": "[encoded data removed]"
          },
          "metadata": {
            "needs_background": "light"
          }
        }
      ]
    },
    {
      "cell_type": "code",
      "source": [
        "model.save('doodle_best.h5')"
      ],
      "metadata": {
        "id": "q99Zzw0J_K0Y"
      },
      "execution_count": null,
      "outputs": []
    }
  ]
}